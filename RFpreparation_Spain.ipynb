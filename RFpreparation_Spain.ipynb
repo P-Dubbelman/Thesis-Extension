{
 "cells": [
  {
   "cell_type": "markdown",
   "metadata": {
    "id": "co2fwyK2R_RC"
   },
   "source": [
    "Downloading and installing necessary packages"
   ]
  },
  {
   "cell_type": "code",
   "execution_count": 1,
   "metadata": {
    "colab": {
     "base_uri": "https://localhost:8080/"
    },
    "id": "YjOEvx-9U8ES",
    "outputId": "1314e098-6ef5-4aa5-c0cf-042340667db1"
   },
   "outputs": [
    {
     "name": "stdout",
     "output_type": "stream",
     "text": [
      "Defaulting to user installation because normal site-packages is not writeable\n",
      "Requirement already satisfied: damagescanner==0.9b15 in c:\\users\\pascal\\appdata\\roaming\\python\\python311\\site-packages (0.9b15)\n",
      "Requirement already satisfied: geopandas in c:\\users\\pascal\\appdata\\roaming\\python\\python311\\site-packages (from damagescanner==0.9b15) (1.0.1)\n",
      "Requirement already satisfied: numpy in c:\\users\\pascal\\appdata\\roaming\\python\\python311\\site-packages (from damagescanner==0.9b15) (1.25.2)\n",
      "Requirement already satisfied: pyproj in c:\\users\\pascal\\appdata\\roaming\\python\\python311\\site-packages (from damagescanner==0.9b15) (3.7.0)\n",
      "Requirement already satisfied: rasterio in c:\\users\\pascal\\appdata\\roaming\\python\\python311\\site-packages (from damagescanner==0.9b15) (1.4.3)\n",
      "Requirement already satisfied: xarray in c:\\users\\pascal\\appdata\\roaming\\python\\python311\\site-packages (from damagescanner==0.9b15) (2024.11.0)\n",
      "Requirement already satisfied: rioxarray in c:\\users\\pascal\\appdata\\roaming\\python\\python311\\site-packages (from damagescanner==0.9b15) (0.19.0)\n",
      "Requirement already satisfied: pandas in c:\\users\\pascal\\appdata\\roaming\\python\\python311\\site-packages (from damagescanner==0.9b15) (2.2.3)\n",
      "Requirement already satisfied: shapely>=2.0 in c:\\users\\pascal\\appdata\\roaming\\python\\python311\\site-packages (from damagescanner==0.9b15) (2.0.6)\n",
      "Requirement already satisfied: tqdm in c:\\program files\\arcgis\\pro\\bin\\python\\envs\\arcgispro-py3\\lib\\site-packages (from damagescanner==0.9b15) (4.66.5)\n",
      "Requirement already satisfied: exactextract in c:\\users\\pascal\\appdata\\roaming\\python\\python311\\site-packages (from damagescanner==0.9b15) (0.2.2)\n",
      "Requirement already satisfied: scipy>=1.13.1 in c:\\users\\pascal\\appdata\\roaming\\python\\python311\\site-packages (from damagescanner==0.9b15) (1.15.3)\n",
      "Requirement already satisfied: pyogrio>=0.7.2 in c:\\users\\pascal\\appdata\\roaming\\python\\python311\\site-packages (from geopandas->damagescanner==0.9b15) (0.10.0)\n",
      "Requirement already satisfied: packaging in c:\\program files\\arcgis\\pro\\bin\\python\\envs\\arcgispro-py3\\lib\\site-packages (from geopandas->damagescanner==0.9b15) (24.1)\n",
      "Requirement already satisfied: python-dateutil>=2.8.2 in c:\\program files\\arcgis\\pro\\bin\\python\\envs\\arcgispro-py3\\lib\\site-packages (from pandas->damagescanner==0.9b15) (2.9.0.post0)\n",
      "Requirement already satisfied: pytz>=2020.1 in c:\\program files\\arcgis\\pro\\bin\\python\\envs\\arcgispro-py3\\lib\\site-packages\\pytz-2022.6-py3.11.egg (from pandas->damagescanner==0.9b15) (2022.6)\n",
      "Requirement already satisfied: tzdata>=2022.7 in c:\\users\\pascal\\appdata\\roaming\\python\\python311\\site-packages (from pandas->damagescanner==0.9b15) (2024.2)\n",
      "Requirement already satisfied: certifi in c:\\program files\\arcgis\\pro\\bin\\python\\envs\\arcgispro-py3\\lib\\site-packages (from pyproj->damagescanner==0.9b15) (2024.8.30)\n",
      "Requirement already satisfied: affine in c:\\users\\pascal\\appdata\\roaming\\python\\python311\\site-packages (from rasterio->damagescanner==0.9b15) (2.4.0)\n",
      "Requirement already satisfied: attrs in c:\\program files\\arcgis\\pro\\bin\\python\\envs\\arcgispro-py3\\lib\\site-packages (from rasterio->damagescanner==0.9b15) (23.1.0)\n",
      "Requirement already satisfied: click>=4.0 in c:\\program files\\arcgis\\pro\\bin\\python\\envs\\arcgispro-py3\\lib\\site-packages (from rasterio->damagescanner==0.9b15) (8.1.7)\n",
      "Requirement already satisfied: cligj>=0.5 in c:\\users\\pascal\\appdata\\roaming\\python\\python311\\site-packages (from rasterio->damagescanner==0.9b15) (0.7.2)\n",
      "Requirement already satisfied: click-plugins in c:\\users\\pascal\\appdata\\roaming\\python\\python311\\site-packages (from rasterio->damagescanner==0.9b15) (1.1.1)\n",
      "Requirement already satisfied: pyparsing in c:\\program files\\arcgis\\pro\\bin\\python\\envs\\arcgispro-py3\\lib\\site-packages (from rasterio->damagescanner==0.9b15) (3.1.2)\n",
      "Requirement already satisfied: colorama in c:\\program files\\arcgis\\pro\\bin\\python\\envs\\arcgispro-py3\\lib\\site-packages (from tqdm->damagescanner==0.9b15) (0.4.6)\n",
      "Requirement already satisfied: six>=1.5 in c:\\program files\\arcgis\\pro\\bin\\python\\envs\\arcgispro-py3\\lib\\site-packages (from python-dateutil>=2.8.2->pandas->damagescanner==0.9b15) (1.16.0)\n",
      "Defaulting to user installation because normal site-packages is not writeable\n",
      "Requirement already satisfied: rasterstats in c:\\users\\pascal\\appdata\\roaming\\python\\python311\\site-packages (0.20.0)\n",
      "Requirement already satisfied: affine in c:\\users\\pascal\\appdata\\roaming\\python\\python311\\site-packages (from rasterstats) (2.4.0)\n",
      "Requirement already satisfied: click>7.1 in c:\\program files\\arcgis\\pro\\bin\\python\\envs\\arcgispro-py3\\lib\\site-packages (from rasterstats) (8.1.7)\n",
      "Requirement already satisfied: cligj>=0.4 in c:\\users\\pascal\\appdata\\roaming\\python\\python311\\site-packages (from rasterstats) (0.7.2)\n",
      "Requirement already satisfied: fiona in c:\\users\\pascal\\appdata\\roaming\\python\\python311\\site-packages (from rasterstats) (1.10.1)\n",
      "Requirement already satisfied: numpy>=1.9 in c:\\users\\pascal\\appdata\\roaming\\python\\python311\\site-packages (from rasterstats) (1.25.2)\n",
      "Requirement already satisfied: rasterio>=1.0 in c:\\users\\pascal\\appdata\\roaming\\python\\python311\\site-packages (from rasterstats) (1.4.3)\n",
      "Requirement already satisfied: simplejson in c:\\users\\pascal\\appdata\\roaming\\python\\python311\\site-packages (from rasterstats) (3.20.1)\n",
      "Requirement already satisfied: shapely in c:\\users\\pascal\\appdata\\roaming\\python\\python311\\site-packages (from rasterstats) (2.0.6)\n",
      "Requirement already satisfied: colorama in c:\\program files\\arcgis\\pro\\bin\\python\\envs\\arcgispro-py3\\lib\\site-packages (from click>7.1->rasterstats) (0.4.6)\n",
      "Requirement already satisfied: attrs in c:\\program files\\arcgis\\pro\\bin\\python\\envs\\arcgispro-py3\\lib\\site-packages (from rasterio>=1.0->rasterstats) (23.1.0)\n",
      "Requirement already satisfied: certifi in c:\\program files\\arcgis\\pro\\bin\\python\\envs\\arcgispro-py3\\lib\\site-packages (from rasterio>=1.0->rasterstats) (2024.8.30)\n",
      "Requirement already satisfied: click-plugins in c:\\users\\pascal\\appdata\\roaming\\python\\python311\\site-packages (from rasterio>=1.0->rasterstats) (1.1.1)\n",
      "Requirement already satisfied: pyparsing in c:\\program files\\arcgis\\pro\\bin\\python\\envs\\arcgispro-py3\\lib\\site-packages (from rasterio>=1.0->rasterstats) (3.1.2)\n",
      "Defaulting to user installation because normal site-packages is not writeable\n",
      "Requirement already satisfied: rioxarray in c:\\users\\pascal\\appdata\\roaming\\python\\python311\\site-packages (0.19.0)\n",
      "Requirement already satisfied: packaging in c:\\program files\\arcgis\\pro\\bin\\python\\envs\\arcgispro-py3\\lib\\site-packages (from rioxarray) (24.1)\n",
      "Requirement already satisfied: rasterio>=1.4.3 in c:\\users\\pascal\\appdata\\roaming\\python\\python311\\site-packages (from rioxarray) (1.4.3)\n",
      "Requirement already satisfied: xarray>=2024.7.0 in c:\\users\\pascal\\appdata\\roaming\\python\\python311\\site-packages (from rioxarray) (2024.11.0)\n",
      "Requirement already satisfied: pyproj>=3.3 in c:\\users\\pascal\\appdata\\roaming\\python\\python311\\site-packages (from rioxarray) (3.7.0)\n",
      "Requirement already satisfied: numpy>=1.23 in c:\\users\\pascal\\appdata\\roaming\\python\\python311\\site-packages (from rioxarray) (1.25.2)\n",
      "Requirement already satisfied: certifi in c:\\program files\\arcgis\\pro\\bin\\python\\envs\\arcgispro-py3\\lib\\site-packages (from pyproj>=3.3->rioxarray) (2024.8.30)\n",
      "Requirement already satisfied: affine in c:\\users\\pascal\\appdata\\roaming\\python\\python311\\site-packages (from rasterio>=1.4.3->rioxarray) (2.4.0)\n",
      "Requirement already satisfied: attrs in c:\\program files\\arcgis\\pro\\bin\\python\\envs\\arcgispro-py3\\lib\\site-packages (from rasterio>=1.4.3->rioxarray) (23.1.0)\n",
      "Requirement already satisfied: click>=4.0 in c:\\program files\\arcgis\\pro\\bin\\python\\envs\\arcgispro-py3\\lib\\site-packages (from rasterio>=1.4.3->rioxarray) (8.1.7)\n",
      "Requirement already satisfied: cligj>=0.5 in c:\\users\\pascal\\appdata\\roaming\\python\\python311\\site-packages (from rasterio>=1.4.3->rioxarray) (0.7.2)\n",
      "Requirement already satisfied: click-plugins in c:\\users\\pascal\\appdata\\roaming\\python\\python311\\site-packages (from rasterio>=1.4.3->rioxarray) (1.1.1)\n",
      "Requirement already satisfied: pyparsing in c:\\program files\\arcgis\\pro\\bin\\python\\envs\\arcgispro-py3\\lib\\site-packages (from rasterio>=1.4.3->rioxarray) (3.1.2)\n",
      "Requirement already satisfied: pandas>=2.1 in c:\\users\\pascal\\appdata\\roaming\\python\\python311\\site-packages (from xarray>=2024.7.0->rioxarray) (2.2.3)\n",
      "Requirement already satisfied: colorama in c:\\program files\\arcgis\\pro\\bin\\python\\envs\\arcgispro-py3\\lib\\site-packages (from click>=4.0->rasterio>=1.4.3->rioxarray) (0.4.6)\n",
      "Requirement already satisfied: python-dateutil>=2.8.2 in c:\\program files\\arcgis\\pro\\bin\\python\\envs\\arcgispro-py3\\lib\\site-packages (from pandas>=2.1->xarray>=2024.7.0->rioxarray) (2.9.0.post0)\n",
      "Requirement already satisfied: pytz>=2020.1 in c:\\program files\\arcgis\\pro\\bin\\python\\envs\\arcgispro-py3\\lib\\site-packages\\pytz-2022.6-py3.11.egg (from pandas>=2.1->xarray>=2024.7.0->rioxarray) (2022.6)\n",
      "Requirement already satisfied: tzdata>=2022.7 in c:\\users\\pascal\\appdata\\roaming\\python\\python311\\site-packages (from pandas>=2.1->xarray>=2024.7.0->rioxarray) (2024.2)\n",
      "Requirement already satisfied: six>=1.5 in c:\\program files\\arcgis\\pro\\bin\\python\\envs\\arcgispro-py3\\lib\\site-packages (from python-dateutil>=2.8.2->pandas>=2.1->xarray>=2024.7.0->rioxarray) (1.16.0)\n"
     ]
    }
   ],
   "source": [
    "!pip install damagescanner==0.9b15\n",
    "!pip install rasterstats\n",
    "!pip install rioxarray"
   ]
  },
  {
   "cell_type": "code",
   "execution_count": 2,
   "metadata": {
    "id": "lugZKF5LU0oc"
   },
   "outputs": [],
   "source": [
    "# Loading necessary data packages\n",
    "import matplotlib.pyplot as plt\n",
    "import pandas as pd\n",
    "import geopandas as gpd\n",
    "import re\n",
    "import rioxarray as rxr\n",
    "from rasterstats import zonal_stats\n",
    "from shapely.geometry import Point\n",
    "from shapely.geometry import LineString\n",
    "\n",
    "# import sys\n",
    "# sys.path.append('') #'your-path-to/osm-flex/src'\n",
    "import damagescanner.download as download\n",
    "from damagescanner.core import DamageScanner\n",
    "from damagescanner.osm import read_osm_data"
   ]
  },
  {
   "cell_type": "markdown",
   "metadata": {
    "id": "Gmnch6WMRwIK"
   },
   "source": [
    "1. Using the OSM Flex package to download the Road Network for Spain"
   ]
  },
  {
   "cell_type": "code",
   "execution_count": 3,
   "metadata": {
    "colab": {
     "base_uri": "https://localhost:8080/"
    },
    "id": "3U7EUghFgp3f",
    "outputId": "08e29ec8-1fe5-4f0a-c877-13c1648eafc8"
   },
   "outputs": [],
   "source": [
    "country_iso3 = 'ESP'"
   ]
  },
  {
   "cell_type": "code",
   "execution_count": 4,
   "metadata": {
    "colab": {
     "base_uri": "https://localhost:8080/"
    },
    "id": "k9drDIEhh3fe",
    "outputId": "9de7143b-eb4e-45fe-a174-18ecce37d52f"
   },
   "outputs": [],
   "source": [
    "infrastructure_path = download.get_country_geofabrik(country_iso3)"
   ]
  },
  {
   "cell_type": "code",
   "execution_count": 5,
   "metadata": {
    "colab": {
     "base_uri": "https://localhost:8080/",
     "height": 254
    },
    "id": "ICCQ6vC2iuJH",
    "outputId": "92fabe87-a96e-4d07-b8e0-22d0ab22b056"
   },
   "outputs": [],
   "source": [
    "gdf_esp_road = gpd.read_file(infrastructure_path, layer=\"lines\")\n",
    "gdf_esp_road = gdf_esp_road[gdf_esp_road[\"highway\"].values != None]"
   ]
  },
  {
   "cell_type": "code",
   "execution_count": 10,
   "metadata": {},
   "outputs": [
    {
     "name": "stdout",
     "output_type": "stream",
     "text": [
      "Extracting maxspeed, lanes, and surface from other_tags column...\n",
      "\n",
      "Road network processed successfully.\n",
      "Total road segments: 5328909\n",
      "Columns available: osm_id, name, highway, maxspeed, lanes, surface, geometry\n",
      "\n",
      "Roads with maxspeed data: 436148 of 5328909\n",
      "Roads with lanes data: 548996 of 5328909\n",
      "Roads with surface data: 1401158 of 5328909\n",
      "\n",
      "Sample of the processed data:\n",
      "    osm_id                 name    highway maxspeed lanes  surface  \\\n",
      "0   407780       Oviedo-Porceyo  secondary     None     1     None   \n",
      "1  2497138             Pit Lane    raceway     None  None  asphalt   \n",
      "2  2497139      Curva Sito Pons    raceway     None  None  asphalt   \n",
      "3  2497152  Curva Alex Criville    raceway     None  None  asphalt   \n",
      "4  3318645                 None    primary       40     1  asphalt   \n",
      "\n",
      "                                            geometry  \n",
      "0  LINESTRING (-5.78146 43.44459, -5.78127 43.444...  \n",
      "1  LINESTRING (-6.03241 36.70754, -6.03222 36.707...  \n",
      "2  LINESTRING (-6.02809 36.70913, -6.02795 36.709...  \n",
      "3  LINESTRING (-6.03677 36.70878, -6.03664 36.708...  \n",
      "4  LINESTRING (1.36978 38.87886, 1.36979 38.87888...  \n"
     ]
    }
   ],
   "source": [
    "# Function to extract tags from the 'other_tags' field\n",
    "def extract_tag(tag_string, key):\n",
    "    if pd.isna(tag_string):\n",
    "        return None\n",
    "    # Use regex to extract the specific tag value\n",
    "    pattern = f'\"{key}\"=>\"([^\"]*)\"'\n",
    "    match = re.search(pattern, str(tag_string))\n",
    "    return match.group(1) if match else None\n",
    "\n",
    "# Extract desired tags from other_tags column\n",
    "print(\"Extracting maxspeed, lanes, and surface from other_tags column...\")\n",
    "gdf_esp_road['maxspeed'] = gdf_esp_road['other_tags'].apply(lambda x: extract_tag(x, 'maxspeed'))\n",
    "gdf_esp_road['lanes'] = gdf_esp_road['other_tags'].apply(lambda x: extract_tag(x, 'lanes'))\n",
    "gdf_esp_road['surface'] = gdf_esp_road['other_tags'].apply(lambda x: extract_tag(x, 'surface'))\n",
    "\n",
    "# Select and rename the desired columns\n",
    "columns_to_keep = ['osm_id', 'name', 'highway', 'maxspeed', 'lanes', 'surface', 'geometry']\n",
    "Spain_Roads = gdf_esp_road[columns_to_keep].copy()\n",
    "\n",
    "# Display basic information\n",
    "print(f\"\\nRoad network processed successfully.\")\n",
    "print(f\"Total road segments: {len(Spain_Roads)}\")\n",
    "print(f\"Columns available: {', '.join(Spain_Roads.columns)}\")\n",
    "\n",
    "# Check number of roads with each tag type\n",
    "print(f\"\\nRoads with maxspeed data: {Spain_Roads['maxspeed'].notna().sum()} of {len(Spain_Roads)}\")\n",
    "print(f\"Roads with lanes data: {Spain_Roads['lanes'].notna().sum()} of {len(Spain_Roads)}\")\n",
    "print(f\"Roads with surface data: {Spain_Roads['surface'].notna().sum()} of {len(Spain_Roads)}\")\n",
    "\n",
    "# Display a sample of the first few rows\n",
    "print(\"\\nSample of the processed data:\")\n",
    "print(Spain_Roads.head())"
   ]
  },
  {
   "cell_type": "code",
   "execution_count": null,
   "metadata": {},
   "outputs": [],
   "source": [
    "Spain_Roads.to_file('Dataset_Spain.geojson', driver='GeoJSON')"
   ]
  },
  {
   "cell_type": "code",
   "execution_count": null,
   "metadata": {
    "colab": {
     "base_uri": "https://localhost:8080/"
    },
    "id": "u6huJRHFkWpG",
    "outputId": "302575cc-8c94-413e-9aec-73244558a12a"
   },
   "outputs": [],
   "source": [
    "# Assign DataFrame for easier handling\n",
    "df_SpainRoads = Spain_Roads\n",
    "\n",
    "# Columns of interest\n",
    "columns = ['maxspeed', 'lanes', 'surface']\n",
    "\n",
    "# Calculate completeness (non-null percentage)\n",
    "completeness = df_SpainRoads[columns].notnull().mean() * 100\n",
    "\n",
    "# Plot\n",
    "plt.figure(figsize=(8, 5))\n",
    "completeness.plot(kind='bar', color='skyblue', edgecolor='black')\n",
    "\n",
    "plt.title('Spain Road Attribute Completeness (%)')\n",
    "plt.ylabel('Percentage')\n",
    "plt.ylim(0, 100)\n",
    "plt.xticks(rotation=45)\n",
    "plt.grid(axis='y', linestyle='--', alpha=0.7)\n",
    "\n",
    "# Annotate bars with values\n",
    "for idx, val in enumerate (completeness):\n",
    "    plt.text(idx, val + 1, f'{val:.1f}%', ha='center', va='bottom')\n",
    "\n",
    "plt.tight_layout()\n",
    "plt.show()"
   ]
  },
  {
   "cell_type": "code",
   "execution_count": null,
   "metadata": {
    "colab": {
     "base_uri": "https://localhost:8080/"
    },
    "id": "xfc6IBYpjiK9",
    "outputId": "03bee80b-2f14-4648-d6de-45ecb0490c48"
   },
   "outputs": [],
   "source": [
    "gdf_esp_mainroad = ex.extract_cis(path_esp_dump, 'main_road')\n",
    "\n",
    "# Drop rows where geometry type is not LineString\n",
    "gdf_esp_mainroad = gdf_esp_mainroad[gdf_esp_mainroad.geometry.geom_type == 'LineString']"
   ]
  },
  {
   "cell_type": "code",
   "execution_count": null,
   "metadata": {
    "colab": {
     "base_uri": "https://localhost:8080/",
     "height": 478
    },
    "id": "qfpbOxTEjziV",
    "outputId": "fbd7ddcf-5604-4aa9-8332-2f65913506ba"
   },
   "outputs": [],
   "source": [
    "fig, ax = plt.subplots()\n",
    "gdf_esp_mainroad.plot(ax=ax, linewidth=0.5)\n",
    "fig.suptitle('Main roads in Spain')\n",
    "plt.show()"
   ]
  },
  {
   "cell_type": "code",
   "execution_count": null,
   "metadata": {
    "id": "hoHRZvBlozsf"
   },
   "outputs": [],
   "source": [
    "Spain_RoadNetwork = pd.DataFrame(gdf_esp_mainroad)\n",
    "Spain_RoadNetwork = Spain_RoadNetwork.rename(columns={'geometry': 'Geometry_LineString'})"
   ]
  },
  {
   "cell_type": "code",
   "execution_count": null,
   "metadata": {
    "colab": {
     "base_uri": "https://localhost:8080/",
     "height": 507
    },
    "id": "uRzkmKOypTUl",
    "outputId": "3c2d47a6-e6c7-4000-b421-77da0300709b"
   },
   "outputs": [],
   "source": [
    "# Assign DataFrame for easier handling\n",
    "df_Spain = Spain_RoadNetwork\n",
    "df_Spain['ID'] = pd.RangeIndex(start=1, stop=len(df_Spain) + 1)  # Create a new 'id' column\n",
    "df_Spain = df_Spain.set_index('ID')  # Set 'id' as the index\n",
    "\n",
    "# Columns of interest\n",
    "columns = ['maxspeed', 'lanes', 'surface']\n",
    "\n",
    "# Calculate completeness (non-null percentage)\n",
    "completeness = df_Spain[columns].notnull().mean() * 100\n",
    "\n",
    "# Plot\n",
    "plt.figure(figsize=(8, 5))\n",
    "completeness.plot(kind='bar', color='skyblue', edgecolor='black')\n",
    "\n",
    "plt.title('Spain Main Road Attribute Completeness (%)')\n",
    "plt.ylabel('Percentage')\n",
    "plt.ylim(0, 100)\n",
    "plt.xticks(rotation=45)\n",
    "plt.grid(axis='y', linestyle='--', alpha=0.7)\n",
    "\n",
    "# Annotate bars with values\n",
    "for idx, val in enumerate (completeness):\n",
    "    plt.text(idx, val + 1, f'{val:.1f}%', ha='center', va='bottom')\n",
    "\n",
    "plt.tight_layout()\n",
    "plt.show()\n"
   ]
  },
  {
   "cell_type": "code",
   "execution_count": null,
   "metadata": {
    "id": "M_bTaxD4RMs8"
   },
   "outputs": [],
   "source": [
    "df_Spain['Geometry_Midpoint'] = df_Spain.geometry.apply(lambda geom: geom.interpolate(0.5, normalized=True))"
   ]
  },
  {
   "cell_type": "code",
   "execution_count": null,
   "metadata": {
    "id": "-lqoVk3JRM7p"
   },
   "outputs": [],
   "source": [
    "def calculate_sinuosity(geometry):\n",
    "    # Calculate the actual road distance (length of the LineString)\n",
    "    road_distance = geometry.length\n",
    "\n",
    "    # Calculate the Euclidean distance (straight line distance between the first and last points)\n",
    "    start_point = Point(geometry.coords[0])\n",
    "    end_point = Point(geometry.coords[-1])\n",
    "    euclidean_distance = start_point.distance(end_point)\n",
    "\n",
    "    # Avoid division by zero by adding a small value to the denominator\n",
    "    sinuosity = road_distance / (euclidean_distance + 1e-100)  # Added 1e-100 to avoid ZeroDivisionError\n",
    "\n",
    "    return sinuosity\n",
    "\n",
    "# Apply the function to each geometry in the GeoDataFrame\n",
    "df_Spain['sinuosity'] = df_Malaga['Geometry_LineString'].apply(calculate_sinuosity)"
   ]
  },
  {
   "cell_type": "code",
   "execution_count": null,
   "metadata": {
    "id": "Rh2_uTTWRNLq"
   },
   "outputs": [],
   "source": [
    "Slope_Spain = '/content/Slope_Map_Spain.tif'\n",
    "Slope_Spain_raster = rxr.open_rasterio(Slope_Spain)  # Open the raster file with rioxarray\n",
    "\n",
    "# Get the CRS from the opened raster\n",
    "raster_crs = Slope_Spain_raster.rio.crs\n",
    "\n",
    "# Ensure roads are in a projected CRS for accurate buffering (meters)\n",
    "df_Spain = df_Spain.to_crs(raster_crs)  # Use the raster's CRS for reprojection\n",
    "\n",
    "# Run zonal stats\n",
    "stats = zonal_stats(df_Spain['Geometry_LineString'], Slope_Spain, stats=['mean'], categorical=True)\n",
    "\n",
    "# Add majority land cover type to roads GeoDataFrame\n",
    "df_Spain['Average_Slope'] = [s['mean'] for s in stats]"
   ]
  },
  {
   "cell_type": "code",
   "execution_count": null,
   "metadata": {
    "id": "JUWtPzIaRNcL"
   },
   "outputs": [],
   "source": [
    "CLC_Spain = '/content/CLC_Merged_Spain.tif' # Define the file path to the land cover raster for Spain\n",
    "CLC_Spain_raster = rxr.open_rasterio(CLC_Spain) # Open the raster file using rioxarray\n",
    "\n",
    "# Get the Coordinate Reference System (CRS) from the raster\n",
    "raster_crs = CLC_Spain_raster.rio.crs\n",
    "\n",
    "# Ensure roads are in a projected CRS for accurate buffering (meters)\n",
    "df_Spain = df_Spain.to_crs(raster_crs)  # Use the raster's CRS for reprojection\n",
    "\n",
    "# Run zonal stats\n",
    "stats = zonal_stats(df_Spain['Geometry_LineString'], CLC_Spain, stats=['majority'], categorical=True)\n",
    "\n",
    "# Add majority land cover type to GeoDataFrame\n",
    "df_Spain['CLC_Merged_Majority'] = [s['majority'] for s in stats]"
   ]
  },
  {
   "cell_type": "code",
   "execution_count": null,
   "metadata": {
    "id": "QBlL7p_xRNuX"
   },
   "outputs": [],
   "source": [
    "# Load the regional GDP data (assuming a shapefile for this example)\n",
    "gdf_gdp = gpd.read_file(\"/content/Spain_NUTS3_GDP.zip\")  # Replace with your file path\n",
    "\n",
    "# Before accessing df_Spain.crs, set the active geometry column:\n",
    "df_Spain = df_Spain.set_geometry('Geometry_Midpoint') # Set 'Midpoint' as the active geometry column\n",
    "\n",
    "# Now you can access the CRS:\n",
    "gdf_gdp = gdf_gdp.to_crs(df_Spain.crs)  # Use the CRS of df_Spain\n",
    "\n",
    "# Define a function to get GDP for a given point\n",
    "def get_gdp(point):\n",
    "    \"\"\"Returns the GDP value of the region containing the given point.\"\"\"\n",
    "    for index, row in gdf_gdp.iterrows():\n",
    "        if row.geometry.contains(point):\n",
    "            return row['OBS_VALUE']  # Replace 'GDP_column' with your GDP column name\n",
    "    return None  # Return None if point not found in any region\n",
    "\n",
    "# Apply the function to get GDP for each road\n",
    "df_Spain['GDP'] = df_Spain['Geometry_Midpoint'].apply(get_gdp)"
   ]
  },
  {
   "cell_type": "code",
   "execution_count": null,
   "metadata": {
    "id": "PiBrVWjRRYR_"
   },
   "outputs": [],
   "source": [
    "Pop_Density_Spain = '/content/Pop_Density.tif'\n",
    "Pop_Density_Spain_raster = rxr.open_rasterio(Pop_Density_Spain)  # Open the raster file with rioxarray\n",
    "\n",
    "# Get the CRS from the opened raster\n",
    "raster_crs = Pop_Density_Spain_raster.rio.crs\n",
    "\n",
    "# Ensure roads are in a projected CRS for accurate buffering (meters)\n",
    "df_Spain = df_Spain.to_crs(raster_crs)  # Use the raster's CRS for reprojection\n",
    "\n",
    "# Run zonal stats\n",
    "stats = zonal_stats(df_Spain['Geometry_LineString'], Pop_Density_Spain, stats=['mean'], categorical=True)\n",
    "\n",
    "# Add average population density to roads GeoDataFrame\n",
    "df_Spain['Average_Pop_Density'] = [s['mean'] for s in stats]"
   ]
  },
  {
   "cell_type": "code",
   "execution_count": null,
   "metadata": {
    "id": "8s7LvamuRYfk"
   },
   "outputs": [],
   "source": [
    "df_Spain"
   ]
  },
  {
   "cell_type": "code",
   "execution_count": null,
   "metadata": {
    "id": "GtWEP3oWRYtj"
   },
   "outputs": [],
   "source": [
    "df_Spain.to_csv('Dataset_Spain.csv')\n",
    "\n",
    "df_Spain = df_Spain.drop(columns=['Geometry_LineString'])\n",
    "df_Spain = df_Spain.rename(columns={'Geometry_Midpoint': 'geometry'})\n",
    "df_Spain.to_file('Dataset_Spain.geojson', driver='GeoJSON')"
   ]
  }
 ],
 "metadata": {
  "colab": {
   "provenance": []
  },
  "kernelspec": {
   "display_name": "Python 3 (ipykernel)",
   "language": "python",
   "name": "python3"
  },
  "language_info": {
   "codemirror_mode": {
    "name": "ipython",
    "version": 3
   },
   "file_extension": ".py",
   "mimetype": "text/x-python",
   "name": "python",
   "nbconvert_exporter": "python",
   "pygments_lexer": "ipython3",
   "version": "3.11.10"
  }
 },
 "nbformat": 4,
 "nbformat_minor": 4
}
