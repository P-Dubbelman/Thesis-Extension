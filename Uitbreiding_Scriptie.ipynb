{
  "nbformat": 4,
  "nbformat_minor": 0,
  "metadata": {
    "colab": {
      "provenance": []
    },
    "kernelspec": {
      "name": "python3",
      "display_name": "Python 3"
    },
    "language_info": {
      "name": "python"
    }
  },
  "cells": [
    {
      "cell_type": "markdown",
      "source": [
        "Downloading and installing necessary packages"
      ],
      "metadata": {
        "id": "co2fwyK2R_RC"
      }
    },
    {
      "cell_type": "code",
      "source": [
        "!pip install osm-flex\n",
        "!pip install osmosis\n",
        "!pip install rasterstats\n",
        "!pip install rioxarray"
      ],
      "metadata": {
        "colab": {
          "base_uri": "https://localhost:8080/"
        },
        "id": "YjOEvx-9U8ES",
        "outputId": "9b9c71e6-9e9c-490e-fb99-3a94ea7e9121",
        "collapsed": true
      },
      "execution_count": 1,
      "outputs": [
        {
          "output_type": "stream",
          "name": "stdout",
          "text": [
            "Collecting osm-flex\n",
            "  Downloading osm_flex-1.1.1-py3-none-any.whl.metadata (3.9 kB)\n",
            "Collecting cartopy (from osm-flex)\n",
            "  Downloading Cartopy-0.24.1-cp311-cp311-manylinux_2_17_x86_64.manylinux2014_x86_64.whl.metadata (7.9 kB)\n",
            "Requirement already satisfied: geopandas in /usr/local/lib/python3.11/dist-packages (from osm-flex) (1.0.1)\n",
            "Requirement already satisfied: gdal in /usr/local/lib/python3.11/dist-packages (from osm-flex) (3.6.4)\n",
            "Requirement already satisfied: numpy in /usr/local/lib/python3.11/dist-packages (from osm-flex) (2.0.2)\n",
            "Requirement already satisfied: shapely>=2.0 in /usr/local/lib/python3.11/dist-packages (from osm-flex) (2.1.0)\n",
            "Requirement already satisfied: pandas in /usr/local/lib/python3.11/dist-packages (from osm-flex) (2.2.2)\n",
            "Requirement already satisfied: tqdm in /usr/local/lib/python3.11/dist-packages (from osm-flex) (4.67.1)\n",
            "Requirement already satisfied: matplotlib>=3.6 in /usr/local/lib/python3.11/dist-packages (from cartopy->osm-flex) (3.10.0)\n",
            "Requirement already satisfied: packaging>=21 in /usr/local/lib/python3.11/dist-packages (from cartopy->osm-flex) (24.2)\n",
            "Requirement already satisfied: pyshp>=2.3 in /usr/local/lib/python3.11/dist-packages (from cartopy->osm-flex) (2.3.1)\n",
            "Requirement already satisfied: pyproj>=3.3.1 in /usr/local/lib/python3.11/dist-packages (from cartopy->osm-flex) (3.7.1)\n",
            "Requirement already satisfied: pyogrio>=0.7.2 in /usr/local/lib/python3.11/dist-packages (from geopandas->osm-flex) (0.10.0)\n",
            "Requirement already satisfied: python-dateutil>=2.8.2 in /usr/local/lib/python3.11/dist-packages (from pandas->osm-flex) (2.8.2)\n",
            "Requirement already satisfied: pytz>=2020.1 in /usr/local/lib/python3.11/dist-packages (from pandas->osm-flex) (2025.2)\n",
            "Requirement already satisfied: tzdata>=2022.7 in /usr/local/lib/python3.11/dist-packages (from pandas->osm-flex) (2025.2)\n",
            "Requirement already satisfied: contourpy>=1.0.1 in /usr/local/lib/python3.11/dist-packages (from matplotlib>=3.6->cartopy->osm-flex) (1.3.1)\n",
            "Requirement already satisfied: cycler>=0.10 in /usr/local/lib/python3.11/dist-packages (from matplotlib>=3.6->cartopy->osm-flex) (0.12.1)\n",
            "Requirement already satisfied: fonttools>=4.22.0 in /usr/local/lib/python3.11/dist-packages (from matplotlib>=3.6->cartopy->osm-flex) (4.57.0)\n",
            "Requirement already satisfied: kiwisolver>=1.3.1 in /usr/local/lib/python3.11/dist-packages (from matplotlib>=3.6->cartopy->osm-flex) (1.4.8)\n",
            "Requirement already satisfied: pillow>=8 in /usr/local/lib/python3.11/dist-packages (from matplotlib>=3.6->cartopy->osm-flex) (11.1.0)\n",
            "Requirement already satisfied: pyparsing>=2.3.1 in /usr/local/lib/python3.11/dist-packages (from matplotlib>=3.6->cartopy->osm-flex) (3.2.3)\n",
            "Requirement already satisfied: certifi in /usr/local/lib/python3.11/dist-packages (from pyogrio>=0.7.2->geopandas->osm-flex) (2025.1.31)\n",
            "Requirement already satisfied: six>=1.5 in /usr/local/lib/python3.11/dist-packages (from python-dateutil>=2.8.2->pandas->osm-flex) (1.17.0)\n",
            "Downloading osm_flex-1.1.1-py3-none-any.whl (33 kB)\n",
            "Downloading Cartopy-0.24.1-cp311-cp311-manylinux_2_17_x86_64.manylinux2014_x86_64.whl (11.7 MB)\n",
            "\u001b[2K   \u001b[90m━━━━━━━━━━━━━━━━━━━━━━━━━━━━━━━━━━━━━━━━\u001b[0m \u001b[32m11.7/11.7 MB\u001b[0m \u001b[31m23.0 MB/s\u001b[0m eta \u001b[36m0:00:00\u001b[0m\n",
            "\u001b[?25hInstalling collected packages: cartopy, osm-flex\n",
            "Successfully installed cartopy-0.24.1 osm-flex-1.1.1\n",
            "Collecting osmosis\n",
            "  Downloading osmosis-0.0.3-py3-none-any.whl.metadata (458 bytes)\n",
            "Requirement already satisfied: diffusers in /usr/local/lib/python3.11/dist-packages (from osmosis) (0.32.2)\n",
            "Requirement already satisfied: typer in /usr/local/lib/python3.11/dist-packages (from osmosis) (0.15.2)\n",
            "Collecting eventlet (from osmosis)\n",
            "  Downloading eventlet-0.39.1-py3-none-any.whl.metadata (5.5 kB)\n",
            "Collecting flask-socketio (from osmosis)\n",
            "  Downloading Flask_SocketIO-5.5.1-py3-none-any.whl.metadata (2.6 kB)\n",
            "Requirement already satisfied: flask in /usr/local/lib/python3.11/dist-packages (from osmosis) (3.1.0)\n",
            "Requirement already satisfied: torch in /usr/local/lib/python3.11/dist-packages (from osmosis) (2.6.0+cu124)\n",
            "Requirement already satisfied: transformers in /usr/local/lib/python3.11/dist-packages (from osmosis) (4.51.1)\n",
            "Requirement already satisfied: accelerate in /usr/local/lib/python3.11/dist-packages (from osmosis) (1.5.2)\n",
            "Collecting realesrgan (from osmosis)\n",
            "  Downloading realesrgan-0.3.0-py3-none-any.whl.metadata (17 kB)\n",
            "Requirement already satisfied: tqdm in /usr/local/lib/python3.11/dist-packages (from osmosis) (4.67.1)\n",
            "Requirement already satisfied: numpy<3.0.0,>=1.17 in /usr/local/lib/python3.11/dist-packages (from accelerate->osmosis) (2.0.2)\n",
            "Requirement already satisfied: packaging>=20.0 in /usr/local/lib/python3.11/dist-packages (from accelerate->osmosis) (24.2)\n",
            "Requirement already satisfied: psutil in /usr/local/lib/python3.11/dist-packages (from accelerate->osmosis) (5.9.5)\n",
            "Requirement already satisfied: pyyaml in /usr/local/lib/python3.11/dist-packages (from accelerate->osmosis) (6.0.2)\n",
            "Requirement already satisfied: huggingface-hub>=0.21.0 in /usr/local/lib/python3.11/dist-packages (from accelerate->osmosis) (0.30.2)\n",
            "Requirement already satisfied: safetensors>=0.4.3 in /usr/local/lib/python3.11/dist-packages (from accelerate->osmosis) (0.5.3)\n",
            "Requirement already satisfied: filelock in /usr/local/lib/python3.11/dist-packages (from torch->osmosis) (3.18.0)\n",
            "Requirement already satisfied: typing-extensions>=4.10.0 in /usr/local/lib/python3.11/dist-packages (from torch->osmosis) (4.13.1)\n",
            "Requirement already satisfied: networkx in /usr/local/lib/python3.11/dist-packages (from torch->osmosis) (3.4.2)\n",
            "Requirement already satisfied: jinja2 in /usr/local/lib/python3.11/dist-packages (from torch->osmosis) (3.1.6)\n",
            "Requirement already satisfied: fsspec in /usr/local/lib/python3.11/dist-packages (from torch->osmosis) (2025.3.2)\n",
            "Collecting nvidia-cuda-nvrtc-cu12==12.4.127 (from torch->osmosis)\n",
            "  Downloading nvidia_cuda_nvrtc_cu12-12.4.127-py3-none-manylinux2014_x86_64.whl.metadata (1.5 kB)\n",
            "Collecting nvidia-cuda-runtime-cu12==12.4.127 (from torch->osmosis)\n",
            "  Downloading nvidia_cuda_runtime_cu12-12.4.127-py3-none-manylinux2014_x86_64.whl.metadata (1.5 kB)\n",
            "Collecting nvidia-cuda-cupti-cu12==12.4.127 (from torch->osmosis)\n",
            "  Downloading nvidia_cuda_cupti_cu12-12.4.127-py3-none-manylinux2014_x86_64.whl.metadata (1.6 kB)\n",
            "Collecting nvidia-cudnn-cu12==9.1.0.70 (from torch->osmosis)\n",
            "  Downloading nvidia_cudnn_cu12-9.1.0.70-py3-none-manylinux2014_x86_64.whl.metadata (1.6 kB)\n",
            "Collecting nvidia-cublas-cu12==12.4.5.8 (from torch->osmosis)\n",
            "  Downloading nvidia_cublas_cu12-12.4.5.8-py3-none-manylinux2014_x86_64.whl.metadata (1.5 kB)\n",
            "Collecting nvidia-cufft-cu12==11.2.1.3 (from torch->osmosis)\n",
            "  Downloading nvidia_cufft_cu12-11.2.1.3-py3-none-manylinux2014_x86_64.whl.metadata (1.5 kB)\n",
            "Collecting nvidia-curand-cu12==10.3.5.147 (from torch->osmosis)\n",
            "  Downloading nvidia_curand_cu12-10.3.5.147-py3-none-manylinux2014_x86_64.whl.metadata (1.5 kB)\n",
            "Collecting nvidia-cusolver-cu12==11.6.1.9 (from torch->osmosis)\n",
            "  Downloading nvidia_cusolver_cu12-11.6.1.9-py3-none-manylinux2014_x86_64.whl.metadata (1.6 kB)\n",
            "Collecting nvidia-cusparse-cu12==12.3.1.170 (from torch->osmosis)\n",
            "  Downloading nvidia_cusparse_cu12-12.3.1.170-py3-none-manylinux2014_x86_64.whl.metadata (1.6 kB)\n",
            "Requirement already satisfied: nvidia-cusparselt-cu12==0.6.2 in /usr/local/lib/python3.11/dist-packages (from torch->osmosis) (0.6.2)\n",
            "Requirement already satisfied: nvidia-nccl-cu12==2.21.5 in /usr/local/lib/python3.11/dist-packages (from torch->osmosis) (2.21.5)\n",
            "Requirement already satisfied: nvidia-nvtx-cu12==12.4.127 in /usr/local/lib/python3.11/dist-packages (from torch->osmosis) (12.4.127)\n",
            "Collecting nvidia-nvjitlink-cu12==12.4.127 (from torch->osmosis)\n",
            "  Downloading nvidia_nvjitlink_cu12-12.4.127-py3-none-manylinux2014_x86_64.whl.metadata (1.5 kB)\n",
            "Requirement already satisfied: triton==3.2.0 in /usr/local/lib/python3.11/dist-packages (from torch->osmosis) (3.2.0)\n",
            "Requirement already satisfied: sympy==1.13.1 in /usr/local/lib/python3.11/dist-packages (from torch->osmosis) (1.13.1)\n",
            "Requirement already satisfied: mpmath<1.4,>=1.1.0 in /usr/local/lib/python3.11/dist-packages (from sympy==1.13.1->torch->osmosis) (1.3.0)\n",
            "Requirement already satisfied: importlib-metadata in /usr/local/lib/python3.11/dist-packages (from diffusers->osmosis) (8.6.1)\n",
            "Requirement already satisfied: regex!=2019.12.17 in /usr/local/lib/python3.11/dist-packages (from diffusers->osmosis) (2024.11.6)\n",
            "Requirement already satisfied: requests in /usr/local/lib/python3.11/dist-packages (from diffusers->osmosis) (2.32.3)\n",
            "Requirement already satisfied: Pillow in /usr/local/lib/python3.11/dist-packages (from diffusers->osmosis) (11.1.0)\n",
            "Collecting dnspython>=1.15.0 (from eventlet->osmosis)\n",
            "  Downloading dnspython-2.7.0-py3-none-any.whl.metadata (5.8 kB)\n",
            "Requirement already satisfied: greenlet>=1.0 in /usr/local/lib/python3.11/dist-packages (from eventlet->osmosis) (3.1.1)\n",
            "Requirement already satisfied: Werkzeug>=3.1 in /usr/local/lib/python3.11/dist-packages (from flask->osmosis) (3.1.3)\n",
            "Requirement already satisfied: itsdangerous>=2.2 in /usr/local/lib/python3.11/dist-packages (from flask->osmosis) (2.2.0)\n",
            "Requirement already satisfied: click>=8.1.3 in /usr/local/lib/python3.11/dist-packages (from flask->osmosis) (8.1.8)\n",
            "Requirement already satisfied: blinker>=1.9 in /usr/local/lib/python3.11/dist-packages (from flask->osmosis) (1.9.0)\n",
            "Collecting python-socketio>=5.12.0 (from flask-socketio->osmosis)\n",
            "  Downloading python_socketio-5.13.0-py3-none-any.whl.metadata (3.2 kB)\n",
            "Collecting basicsr>=1.4.2 (from realesrgan->osmosis)\n",
            "  Downloading basicsr-1.4.2.tar.gz (172 kB)\n",
            "\u001b[2K     \u001b[90m━━━━━━━━━━━━━━━━━━━━━━━━━━━━━━━━━━━━━━━\u001b[0m \u001b[32m172.5/172.5 kB\u001b[0m \u001b[31m4.1 MB/s\u001b[0m eta \u001b[36m0:00:00\u001b[0m\n",
            "\u001b[?25h  Preparing metadata (setup.py) ... \u001b[?25l\u001b[?25hdone\n",
            "Collecting facexlib>=0.2.5 (from realesrgan->osmosis)\n",
            "  Downloading facexlib-0.3.0-py3-none-any.whl.metadata (4.6 kB)\n",
            "Collecting gfpgan>=1.3.5 (from realesrgan->osmosis)\n",
            "  Downloading gfpgan-1.3.8-py3-none-any.whl.metadata (12 kB)\n",
            "Requirement already satisfied: opencv-python in /usr/local/lib/python3.11/dist-packages (from realesrgan->osmosis) (4.11.0.86)\n",
            "Requirement already satisfied: torchvision in /usr/local/lib/python3.11/dist-packages (from realesrgan->osmosis) (0.21.0+cu124)\n",
            "Requirement already satisfied: tokenizers<0.22,>=0.21 in /usr/local/lib/python3.11/dist-packages (from transformers->osmosis) (0.21.1)\n",
            "Requirement already satisfied: shellingham>=1.3.0 in /usr/local/lib/python3.11/dist-packages (from typer->osmosis) (1.5.4)\n",
            "Requirement already satisfied: rich>=10.11.0 in /usr/local/lib/python3.11/dist-packages (from typer->osmosis) (13.9.4)\n",
            "Collecting addict (from basicsr>=1.4.2->realesrgan->osmosis)\n",
            "  Downloading addict-2.4.0-py3-none-any.whl.metadata (1.0 kB)\n",
            "Requirement already satisfied: future in /usr/local/lib/python3.11/dist-packages (from basicsr>=1.4.2->realesrgan->osmosis) (1.0.0)\n",
            "Collecting lmdb (from basicsr>=1.4.2->realesrgan->osmosis)\n",
            "  Downloading lmdb-1.6.2-cp311-cp311-manylinux_2_17_x86_64.manylinux2014_x86_64.whl.metadata (1.1 kB)\n",
            "Requirement already satisfied: scikit-image in /usr/local/lib/python3.11/dist-packages (from basicsr>=1.4.2->realesrgan->osmosis) (0.25.2)\n",
            "Requirement already satisfied: scipy in /usr/local/lib/python3.11/dist-packages (from basicsr>=1.4.2->realesrgan->osmosis) (1.14.1)\n",
            "Collecting tb-nightly (from basicsr>=1.4.2->realesrgan->osmosis)\n",
            "  Downloading tb_nightly-2.20.0a20250415-py3-none-any.whl.metadata (1.9 kB)\n",
            "Collecting yapf (from basicsr>=1.4.2->realesrgan->osmosis)\n",
            "  Downloading yapf-0.43.0-py3-none-any.whl.metadata (46 kB)\n",
            "\u001b[2K     \u001b[90m━━━━━━━━━━━━━━━━━━━━━━━━━━━━━━━━━━━━━━━━\u001b[0m \u001b[32m46.8/46.8 kB\u001b[0m \u001b[31m4.8 MB/s\u001b[0m eta \u001b[36m0:00:00\u001b[0m\n",
            "\u001b[?25hCollecting filterpy (from facexlib>=0.2.5->realesrgan->osmosis)\n",
            "  Downloading filterpy-1.4.5.zip (177 kB)\n",
            "\u001b[2K     \u001b[90m━━━━━━━━━━━━━━━━━━━━━━━━━━━━━━━━━━━━━━\u001b[0m \u001b[32m178.0/178.0 kB\u001b[0m \u001b[31m17.7 MB/s\u001b[0m eta \u001b[36m0:00:00\u001b[0m\n",
            "\u001b[?25h  Preparing metadata (setup.py) ... \u001b[?25l\u001b[?25hdone\n",
            "Requirement already satisfied: numba in /usr/local/lib/python3.11/dist-packages (from facexlib>=0.2.5->realesrgan->osmosis) (0.60.0)\n",
            "Requirement already satisfied: MarkupSafe>=2.0 in /usr/local/lib/python3.11/dist-packages (from jinja2->torch->osmosis) (3.0.2)\n",
            "Collecting bidict>=0.21.0 (from python-socketio>=5.12.0->flask-socketio->osmosis)\n",
            "  Downloading bidict-0.23.1-py3-none-any.whl.metadata (8.7 kB)\n",
            "Collecting python-engineio>=4.11.0 (from python-socketio>=5.12.0->flask-socketio->osmosis)\n",
            "  Downloading python_engineio-4.12.0-py3-none-any.whl.metadata (2.3 kB)\n",
            "Requirement already satisfied: markdown-it-py>=2.2.0 in /usr/local/lib/python3.11/dist-packages (from rich>=10.11.0->typer->osmosis) (3.0.0)\n",
            "Requirement already satisfied: pygments<3.0.0,>=2.13.0 in /usr/local/lib/python3.11/dist-packages (from rich>=10.11.0->typer->osmosis) (2.18.0)\n",
            "Requirement already satisfied: zipp>=3.20 in /usr/local/lib/python3.11/dist-packages (from importlib-metadata->diffusers->osmosis) (3.21.0)\n",
            "Requirement already satisfied: charset-normalizer<4,>=2 in /usr/local/lib/python3.11/dist-packages (from requests->diffusers->osmosis) (3.4.1)\n",
            "Requirement already satisfied: idna<4,>=2.5 in /usr/local/lib/python3.11/dist-packages (from requests->diffusers->osmosis) (3.10)\n",
            "Requirement already satisfied: urllib3<3,>=1.21.1 in /usr/local/lib/python3.11/dist-packages (from requests->diffusers->osmosis) (2.3.0)\n",
            "Requirement already satisfied: certifi>=2017.4.17 in /usr/local/lib/python3.11/dist-packages (from requests->diffusers->osmosis) (2025.1.31)\n",
            "Requirement already satisfied: mdurl~=0.1 in /usr/local/lib/python3.11/dist-packages (from markdown-it-py>=2.2.0->rich>=10.11.0->typer->osmosis) (0.1.2)\n",
            "Collecting simple-websocket>=0.10.0 (from python-engineio>=4.11.0->python-socketio>=5.12.0->flask-socketio->osmosis)\n",
            "  Downloading simple_websocket-1.1.0-py3-none-any.whl.metadata (1.5 kB)\n",
            "Requirement already satisfied: matplotlib in /usr/local/lib/python3.11/dist-packages (from filterpy->facexlib>=0.2.5->realesrgan->osmosis) (3.10.0)\n",
            "Requirement already satisfied: llvmlite<0.44,>=0.43.0dev0 in /usr/local/lib/python3.11/dist-packages (from numba->facexlib>=0.2.5->realesrgan->osmosis) (0.43.0)\n",
            "Requirement already satisfied: imageio!=2.35.0,>=2.33 in /usr/local/lib/python3.11/dist-packages (from scikit-image->basicsr>=1.4.2->realesrgan->osmosis) (2.37.0)\n",
            "Requirement already satisfied: tifffile>=2022.8.12 in /usr/local/lib/python3.11/dist-packages (from scikit-image->basicsr>=1.4.2->realesrgan->osmosis) (2025.3.30)\n",
            "Requirement already satisfied: lazy-loader>=0.4 in /usr/local/lib/python3.11/dist-packages (from scikit-image->basicsr>=1.4.2->realesrgan->osmosis) (0.4)\n",
            "Requirement already satisfied: absl-py>=0.4 in /usr/local/lib/python3.11/dist-packages (from tb-nightly->basicsr>=1.4.2->realesrgan->osmosis) (1.4.0)\n",
            "Requirement already satisfied: grpcio>=1.48.2 in /usr/local/lib/python3.11/dist-packages (from tb-nightly->basicsr>=1.4.2->realesrgan->osmosis) (1.71.0)\n",
            "Requirement already satisfied: markdown>=2.6.8 in /usr/local/lib/python3.11/dist-packages (from tb-nightly->basicsr>=1.4.2->realesrgan->osmosis) (3.7)\n",
            "Requirement already satisfied: protobuf!=4.24.0,>=3.19.6 in /usr/local/lib/python3.11/dist-packages (from tb-nightly->basicsr>=1.4.2->realesrgan->osmosis) (5.29.4)\n",
            "Requirement already satisfied: setuptools>=41.0.0 in /usr/local/lib/python3.11/dist-packages (from tb-nightly->basicsr>=1.4.2->realesrgan->osmosis) (75.2.0)\n",
            "Requirement already satisfied: six>1.9 in /usr/local/lib/python3.11/dist-packages (from tb-nightly->basicsr>=1.4.2->realesrgan->osmosis) (1.17.0)\n",
            "Requirement already satisfied: tensorboard-data-server<0.8.0,>=0.7.0 in /usr/local/lib/python3.11/dist-packages (from tb-nightly->basicsr>=1.4.2->realesrgan->osmosis) (0.7.2)\n",
            "Requirement already satisfied: platformdirs>=3.5.1 in /usr/local/lib/python3.11/dist-packages (from yapf->basicsr>=1.4.2->realesrgan->osmosis) (4.3.7)\n",
            "Collecting wsproto (from simple-websocket>=0.10.0->python-engineio>=4.11.0->python-socketio>=5.12.0->flask-socketio->osmosis)\n",
            "  Downloading wsproto-1.2.0-py3-none-any.whl.metadata (5.6 kB)\n",
            "Requirement already satisfied: contourpy>=1.0.1 in /usr/local/lib/python3.11/dist-packages (from matplotlib->filterpy->facexlib>=0.2.5->realesrgan->osmosis) (1.3.1)\n",
            "Requirement already satisfied: cycler>=0.10 in /usr/local/lib/python3.11/dist-packages (from matplotlib->filterpy->facexlib>=0.2.5->realesrgan->osmosis) (0.12.1)\n",
            "Requirement already satisfied: fonttools>=4.22.0 in /usr/local/lib/python3.11/dist-packages (from matplotlib->filterpy->facexlib>=0.2.5->realesrgan->osmosis) (4.57.0)\n",
            "Requirement already satisfied: kiwisolver>=1.3.1 in /usr/local/lib/python3.11/dist-packages (from matplotlib->filterpy->facexlib>=0.2.5->realesrgan->osmosis) (1.4.8)\n",
            "Requirement already satisfied: pyparsing>=2.3.1 in /usr/local/lib/python3.11/dist-packages (from matplotlib->filterpy->facexlib>=0.2.5->realesrgan->osmosis) (3.2.3)\n",
            "Requirement already satisfied: python-dateutil>=2.7 in /usr/local/lib/python3.11/dist-packages (from matplotlib->filterpy->facexlib>=0.2.5->realesrgan->osmosis) (2.8.2)\n",
            "Requirement already satisfied: h11<1,>=0.9.0 in /usr/local/lib/python3.11/dist-packages (from wsproto->simple-websocket>=0.10.0->python-engineio>=4.11.0->python-socketio>=5.12.0->flask-socketio->osmosis) (0.14.0)\n",
            "Downloading osmosis-0.0.3-py3-none-any.whl (71 kB)\n",
            "\u001b[2K   \u001b[90m━━━━━━━━━━━━━━━━━━━━━━━━━━━━━━━━━━━━━━━━\u001b[0m \u001b[32m71.7/71.7 kB\u001b[0m \u001b[31m6.9 MB/s\u001b[0m eta \u001b[36m0:00:00\u001b[0m\n",
            "\u001b[?25hUsing cached nvidia_cublas_cu12-12.4.5.8-py3-none-manylinux2014_x86_64.whl (363.4 MB)\n",
            "Using cached nvidia_cuda_cupti_cu12-12.4.127-py3-none-manylinux2014_x86_64.whl (13.8 MB)\n",
            "Using cached nvidia_cuda_nvrtc_cu12-12.4.127-py3-none-manylinux2014_x86_64.whl (24.6 MB)\n",
            "Using cached nvidia_cuda_runtime_cu12-12.4.127-py3-none-manylinux2014_x86_64.whl (883 kB)\n",
            "Using cached nvidia_cudnn_cu12-9.1.0.70-py3-none-manylinux2014_x86_64.whl (664.8 MB)\n",
            "Using cached nvidia_cufft_cu12-11.2.1.3-py3-none-manylinux2014_x86_64.whl (211.5 MB)\n",
            "Using cached nvidia_curand_cu12-10.3.5.147-py3-none-manylinux2014_x86_64.whl (56.3 MB)\n",
            "Using cached nvidia_cusolver_cu12-11.6.1.9-py3-none-manylinux2014_x86_64.whl (127.9 MB)\n",
            "Using cached nvidia_cusparse_cu12-12.3.1.170-py3-none-manylinux2014_x86_64.whl (207.5 MB)\n",
            "Using cached nvidia_nvjitlink_cu12-12.4.127-py3-none-manylinux2014_x86_64.whl (21.1 MB)\n",
            "Downloading eventlet-0.39.1-py3-none-any.whl (363 kB)\n",
            "\u001b[2K   \u001b[90m━━━━━━━━━━━━━━━━━━━━━━━━━━━━━━━━━━━━━━━━\u001b[0m \u001b[32m363.5/363.5 kB\u001b[0m \u001b[31m28.4 MB/s\u001b[0m eta \u001b[36m0:00:00\u001b[0m\n",
            "\u001b[?25hDownloading Flask_SocketIO-5.5.1-py3-none-any.whl (18 kB)\n",
            "Downloading realesrgan-0.3.0-py3-none-any.whl (26 kB)\n",
            "Downloading dnspython-2.7.0-py3-none-any.whl (313 kB)\n",
            "\u001b[2K   \u001b[90m━━━━━━━━━━━━━━━━━━━━━━━━━━━━━━━━━━━━━━━━\u001b[0m \u001b[32m313.6/313.6 kB\u001b[0m \u001b[31m28.0 MB/s\u001b[0m eta \u001b[36m0:00:00\u001b[0m\n",
            "\u001b[?25hDownloading facexlib-0.3.0-py3-none-any.whl (59 kB)\n",
            "\u001b[2K   \u001b[90m━━━━━━━━━━━━━━━━━━━━━━━━━━━━━━━━━━━━━━━━\u001b[0m \u001b[32m59.6/59.6 kB\u001b[0m \u001b[31m5.4 MB/s\u001b[0m eta \u001b[36m0:00:00\u001b[0m\n",
            "\u001b[?25hDownloading gfpgan-1.3.8-py3-none-any.whl (52 kB)\n",
            "\u001b[2K   \u001b[90m━━━━━━━━━━━━━━━━━━━━━━━━━━━━━━━━━━━━━━━━\u001b[0m \u001b[32m52.2/52.2 kB\u001b[0m \u001b[31m5.1 MB/s\u001b[0m eta \u001b[36m0:00:00\u001b[0m\n",
            "\u001b[?25hDownloading python_socketio-5.13.0-py3-none-any.whl (77 kB)\n",
            "\u001b[2K   \u001b[90m━━━━━━━━━━━━━━━━━━━━━━━━━━━━━━━━━━━━━━━━\u001b[0m \u001b[32m77.8/77.8 kB\u001b[0m \u001b[31m6.8 MB/s\u001b[0m eta \u001b[36m0:00:00\u001b[0m\n",
            "\u001b[?25hDownloading bidict-0.23.1-py3-none-any.whl (32 kB)\n",
            "Downloading python_engineio-4.12.0-py3-none-any.whl (59 kB)\n",
            "\u001b[2K   \u001b[90m━━━━━━━━━━━━━━━━━━━━━━━━━━━━━━━━━━━━━━━━\u001b[0m \u001b[32m59.3/59.3 kB\u001b[0m \u001b[31m4.6 MB/s\u001b[0m eta \u001b[36m0:00:00\u001b[0m\n",
            "\u001b[?25hDownloading addict-2.4.0-py3-none-any.whl (3.8 kB)\n",
            "Downloading lmdb-1.6.2-cp311-cp311-manylinux_2_17_x86_64.manylinux2014_x86_64.whl (297 kB)\n",
            "\u001b[2K   \u001b[90m━━━━━━━━━━━━━━━━━━━━━━━━━━━━━━━━━━━━━━━━\u001b[0m \u001b[32m297.8/297.8 kB\u001b[0m \u001b[31m24.3 MB/s\u001b[0m eta \u001b[36m0:00:00\u001b[0m\n",
            "\u001b[?25hDownloading tb_nightly-2.20.0a20250415-py3-none-any.whl (5.5 MB)\n",
            "\u001b[2K   \u001b[90m━━━━━━━━━━━━━━━━━━━━━━━━━━━━━━━━━━━━━━━━\u001b[0m \u001b[32m5.5/5.5 MB\u001b[0m \u001b[31m69.8 MB/s\u001b[0m eta \u001b[36m0:00:00\u001b[0m\n",
            "\u001b[?25hDownloading yapf-0.43.0-py3-none-any.whl (256 kB)\n",
            "\u001b[2K   \u001b[90m━━━━━━━━━━━━━━━━━━━━━━━━━━━━━━━━━━━━━━━━\u001b[0m \u001b[32m256.2/256.2 kB\u001b[0m \u001b[31m23.0 MB/s\u001b[0m eta \u001b[36m0:00:00\u001b[0m\n",
            "\u001b[?25hDownloading simple_websocket-1.1.0-py3-none-any.whl (13 kB)\n",
            "Downloading wsproto-1.2.0-py3-none-any.whl (24 kB)\n",
            "Building wheels for collected packages: basicsr, filterpy\n",
            "  Building wheel for basicsr (setup.py) ... \u001b[?25l\u001b[?25hdone\n",
            "  Created wheel for basicsr: filename=basicsr-1.4.2-py3-none-any.whl size=214818 sha256=e4ed8dcd180afff5f82e3ff866738dc893acc2d1744aaba7e6d7d91f1951a588\n",
            "  Stored in directory: /root/.cache/pip/wheels/6d/a4/b3/9f888ba88efcae6dd4bbce69832363de9c4051142674f779fa\n",
            "  Building wheel for filterpy (setup.py) ... \u001b[?25l\u001b[?25hdone\n",
            "  Created wheel for filterpy: filename=filterpy-1.4.5-py3-none-any.whl size=110460 sha256=4d62027cd1979bb273bae605a4e39fd6a2e40f205065f750c35aaad01f525ebc\n",
            "  Stored in directory: /root/.cache/pip/wheels/12/dc/3c/e12983eac132d00f82a20c6cbe7b42ce6e96190ef8fa2d15e1\n",
            "Successfully built basicsr filterpy\n",
            "Installing collected packages: lmdb, addict, yapf, wsproto, nvidia-nvjitlink-cu12, nvidia-curand-cu12, nvidia-cufft-cu12, nvidia-cuda-runtime-cu12, nvidia-cuda-nvrtc-cu12, nvidia-cuda-cupti-cu12, nvidia-cublas-cu12, dnspython, bidict, tb-nightly, simple-websocket, nvidia-cusparse-cu12, nvidia-cudnn-cu12, eventlet, python-engineio, nvidia-cusolver-cu12, filterpy, python-socketio, flask-socketio, facexlib, basicsr, gfpgan, realesrgan, osmosis\n",
            "  Attempting uninstall: nvidia-nvjitlink-cu12\n",
            "    Found existing installation: nvidia-nvjitlink-cu12 12.5.82\n",
            "    Uninstalling nvidia-nvjitlink-cu12-12.5.82:\n",
            "      Successfully uninstalled nvidia-nvjitlink-cu12-12.5.82\n",
            "  Attempting uninstall: nvidia-curand-cu12\n",
            "    Found existing installation: nvidia-curand-cu12 10.3.6.82\n",
            "    Uninstalling nvidia-curand-cu12-10.3.6.82:\n",
            "      Successfully uninstalled nvidia-curand-cu12-10.3.6.82\n",
            "  Attempting uninstall: nvidia-cufft-cu12\n",
            "    Found existing installation: nvidia-cufft-cu12 11.2.3.61\n",
            "    Uninstalling nvidia-cufft-cu12-11.2.3.61:\n",
            "      Successfully uninstalled nvidia-cufft-cu12-11.2.3.61\n",
            "  Attempting uninstall: nvidia-cuda-runtime-cu12\n",
            "    Found existing installation: nvidia-cuda-runtime-cu12 12.5.82\n",
            "    Uninstalling nvidia-cuda-runtime-cu12-12.5.82:\n",
            "      Successfully uninstalled nvidia-cuda-runtime-cu12-12.5.82\n",
            "  Attempting uninstall: nvidia-cuda-nvrtc-cu12\n",
            "    Found existing installation: nvidia-cuda-nvrtc-cu12 12.5.82\n",
            "    Uninstalling nvidia-cuda-nvrtc-cu12-12.5.82:\n",
            "      Successfully uninstalled nvidia-cuda-nvrtc-cu12-12.5.82\n",
            "  Attempting uninstall: nvidia-cuda-cupti-cu12\n",
            "    Found existing installation: nvidia-cuda-cupti-cu12 12.5.82\n",
            "    Uninstalling nvidia-cuda-cupti-cu12-12.5.82:\n",
            "      Successfully uninstalled nvidia-cuda-cupti-cu12-12.5.82\n",
            "  Attempting uninstall: nvidia-cublas-cu12\n",
            "    Found existing installation: nvidia-cublas-cu12 12.5.3.2\n",
            "    Uninstalling nvidia-cublas-cu12-12.5.3.2:\n",
            "      Successfully uninstalled nvidia-cublas-cu12-12.5.3.2\n",
            "  Attempting uninstall: nvidia-cusparse-cu12\n",
            "    Found existing installation: nvidia-cusparse-cu12 12.5.1.3\n",
            "    Uninstalling nvidia-cusparse-cu12-12.5.1.3:\n",
            "      Successfully uninstalled nvidia-cusparse-cu12-12.5.1.3\n",
            "  Attempting uninstall: nvidia-cudnn-cu12\n",
            "    Found existing installation: nvidia-cudnn-cu12 9.3.0.75\n",
            "    Uninstalling nvidia-cudnn-cu12-9.3.0.75:\n",
            "      Successfully uninstalled nvidia-cudnn-cu12-9.3.0.75\n",
            "  Attempting uninstall: nvidia-cusolver-cu12\n",
            "    Found existing installation: nvidia-cusolver-cu12 11.6.3.83\n",
            "    Uninstalling nvidia-cusolver-cu12-11.6.3.83:\n",
            "      Successfully uninstalled nvidia-cusolver-cu12-11.6.3.83\n",
            "Successfully installed addict-2.4.0 basicsr-1.4.2 bidict-0.23.1 dnspython-2.7.0 eventlet-0.39.1 facexlib-0.3.0 filterpy-1.4.5 flask-socketio-5.5.1 gfpgan-1.3.8 lmdb-1.6.2 nvidia-cublas-cu12-12.4.5.8 nvidia-cuda-cupti-cu12-12.4.127 nvidia-cuda-nvrtc-cu12-12.4.127 nvidia-cuda-runtime-cu12-12.4.127 nvidia-cudnn-cu12-9.1.0.70 nvidia-cufft-cu12-11.2.1.3 nvidia-curand-cu12-10.3.5.147 nvidia-cusolver-cu12-11.6.1.9 nvidia-cusparse-cu12-12.3.1.170 nvidia-nvjitlink-cu12-12.4.127 osmosis-0.0.3 python-engineio-4.12.0 python-socketio-5.13.0 realesrgan-0.3.0 simple-websocket-1.1.0 tb-nightly-2.20.0a20250415 wsproto-1.2.0 yapf-0.43.0\n",
            "Collecting rasterstats\n",
            "  Downloading rasterstats-0.20.0-py3-none-any.whl.metadata (4.2 kB)\n",
            "Collecting affine (from rasterstats)\n",
            "  Downloading affine-2.4.0-py3-none-any.whl.metadata (4.0 kB)\n",
            "Requirement already satisfied: click>7.1 in /usr/local/lib/python3.11/dist-packages (from rasterstats) (8.1.8)\n",
            "Collecting cligj>=0.4 (from rasterstats)\n",
            "  Downloading cligj-0.7.2-py3-none-any.whl.metadata (5.0 kB)\n",
            "Collecting fiona (from rasterstats)\n",
            "  Downloading fiona-1.10.1-cp311-cp311-manylinux_2_17_x86_64.manylinux2014_x86_64.whl.metadata (56 kB)\n",
            "\u001b[2K     \u001b[90m━━━━━━━━━━━━━━━━━━━━━━━━━━━━━━━━━━━━━━━━\u001b[0m \u001b[32m56.6/56.6 kB\u001b[0m \u001b[31m1.5 MB/s\u001b[0m eta \u001b[36m0:00:00\u001b[0m\n",
            "\u001b[?25hRequirement already satisfied: numpy>=1.9 in /usr/local/lib/python3.11/dist-packages (from rasterstats) (2.0.2)\n",
            "Collecting rasterio>=1.0 (from rasterstats)\n",
            "  Downloading rasterio-1.4.3-cp311-cp311-manylinux_2_17_x86_64.manylinux2014_x86_64.whl.metadata (9.1 kB)\n",
            "Requirement already satisfied: simplejson in /usr/local/lib/python3.11/dist-packages (from rasterstats) (3.20.1)\n",
            "Requirement already satisfied: shapely in /usr/local/lib/python3.11/dist-packages (from rasterstats) (2.1.0)\n",
            "Requirement already satisfied: attrs in /usr/local/lib/python3.11/dist-packages (from rasterio>=1.0->rasterstats) (25.3.0)\n",
            "Requirement already satisfied: certifi in /usr/local/lib/python3.11/dist-packages (from rasterio>=1.0->rasterstats) (2025.1.31)\n",
            "Collecting click-plugins (from rasterio>=1.0->rasterstats)\n",
            "  Downloading click_plugins-1.1.1-py2.py3-none-any.whl.metadata (6.4 kB)\n",
            "Requirement already satisfied: pyparsing in /usr/local/lib/python3.11/dist-packages (from rasterio>=1.0->rasterstats) (3.2.3)\n",
            "Downloading rasterstats-0.20.0-py3-none-any.whl (17 kB)\n",
            "Downloading cligj-0.7.2-py3-none-any.whl (7.1 kB)\n",
            "Downloading rasterio-1.4.3-cp311-cp311-manylinux_2_17_x86_64.manylinux2014_x86_64.whl (22.2 MB)\n",
            "\u001b[2K   \u001b[90m━━━━━━━━━━━━━━━━━━━━━━━━━━━━━━━━━━━━━━━━\u001b[0m \u001b[32m22.2/22.2 MB\u001b[0m \u001b[31m68.2 MB/s\u001b[0m eta \u001b[36m0:00:00\u001b[0m\n",
            "\u001b[?25hDownloading affine-2.4.0-py3-none-any.whl (15 kB)\n",
            "Downloading fiona-1.10.1-cp311-cp311-manylinux_2_17_x86_64.manylinux2014_x86_64.whl (17.3 MB)\n",
            "\u001b[2K   \u001b[90m━━━━━━━━━━━━━━━━━━━━━━━━━━━━━━━━━━━━━━━━\u001b[0m \u001b[32m17.3/17.3 MB\u001b[0m \u001b[31m65.5 MB/s\u001b[0m eta \u001b[36m0:00:00\u001b[0m\n",
            "\u001b[?25hDownloading click_plugins-1.1.1-py2.py3-none-any.whl (7.5 kB)\n",
            "Installing collected packages: cligj, click-plugins, affine, rasterio, fiona, rasterstats\n",
            "Successfully installed affine-2.4.0 click-plugins-1.1.1 cligj-0.7.2 fiona-1.10.1 rasterio-1.4.3 rasterstats-0.20.0\n",
            "Collecting rioxarray\n",
            "  Downloading rioxarray-0.18.2-py3-none-any.whl.metadata (5.4 kB)\n",
            "Requirement already satisfied: packaging in /usr/local/lib/python3.11/dist-packages (from rioxarray) (24.2)\n",
            "Requirement already satisfied: rasterio>=1.3.7 in /usr/local/lib/python3.11/dist-packages (from rioxarray) (1.4.3)\n",
            "Requirement already satisfied: xarray>=2024.7.0 in /usr/local/lib/python3.11/dist-packages (from rioxarray) (2025.1.2)\n",
            "Requirement already satisfied: pyproj>=3.3 in /usr/local/lib/python3.11/dist-packages (from rioxarray) (3.7.1)\n",
            "Requirement already satisfied: numpy>=1.23 in /usr/local/lib/python3.11/dist-packages (from rioxarray) (2.0.2)\n",
            "Requirement already satisfied: certifi in /usr/local/lib/python3.11/dist-packages (from pyproj>=3.3->rioxarray) (2025.1.31)\n",
            "Requirement already satisfied: affine in /usr/local/lib/python3.11/dist-packages (from rasterio>=1.3.7->rioxarray) (2.4.0)\n",
            "Requirement already satisfied: attrs in /usr/local/lib/python3.11/dist-packages (from rasterio>=1.3.7->rioxarray) (25.3.0)\n",
            "Requirement already satisfied: click>=4.0 in /usr/local/lib/python3.11/dist-packages (from rasterio>=1.3.7->rioxarray) (8.1.8)\n",
            "Requirement already satisfied: cligj>=0.5 in /usr/local/lib/python3.11/dist-packages (from rasterio>=1.3.7->rioxarray) (0.7.2)\n",
            "Requirement already satisfied: click-plugins in /usr/local/lib/python3.11/dist-packages (from rasterio>=1.3.7->rioxarray) (1.1.1)\n",
            "Requirement already satisfied: pyparsing in /usr/local/lib/python3.11/dist-packages (from rasterio>=1.3.7->rioxarray) (3.2.3)\n",
            "Requirement already satisfied: pandas>=2.1 in /usr/local/lib/python3.11/dist-packages (from xarray>=2024.7.0->rioxarray) (2.2.2)\n",
            "Requirement already satisfied: python-dateutil>=2.8.2 in /usr/local/lib/python3.11/dist-packages (from pandas>=2.1->xarray>=2024.7.0->rioxarray) (2.8.2)\n",
            "Requirement already satisfied: pytz>=2020.1 in /usr/local/lib/python3.11/dist-packages (from pandas>=2.1->xarray>=2024.7.0->rioxarray) (2025.2)\n",
            "Requirement already satisfied: tzdata>=2022.7 in /usr/local/lib/python3.11/dist-packages (from pandas>=2.1->xarray>=2024.7.0->rioxarray) (2025.2)\n",
            "Requirement already satisfied: six>=1.5 in /usr/local/lib/python3.11/dist-packages (from python-dateutil>=2.8.2->pandas>=2.1->xarray>=2024.7.0->rioxarray) (1.17.0)\n",
            "Downloading rioxarray-0.18.2-py3-none-any.whl (61 kB)\n",
            "\u001b[2K   \u001b[90m━━━━━━━━━━━━━━━━━━━━━━━━━━━━━━━━━━━━━━━━\u001b[0m \u001b[32m61.9/61.9 kB\u001b[0m \u001b[31m1.8 MB/s\u001b[0m eta \u001b[36m0:00:00\u001b[0m\n",
            "\u001b[?25hInstalling collected packages: rioxarray\n",
            "Successfully installed rioxarray-0.18.2\n"
          ]
        }
      ]
    },
    {
      "cell_type": "code",
      "execution_count": 2,
      "metadata": {
        "id": "lugZKF5LU0oc",
        "collapsed": true
      },
      "outputs": [],
      "source": [
        "# Loading necessary data packages\n",
        "import matplotlib.pyplot as plt\n",
        "import pandas as pd\n",
        "import geopandas as gpd\n",
        "import rioxarray as rxr\n",
        "from rasterstats import zonal_stats\n",
        "from shapely.geometry import Point\n",
        "from shapely.geometry import LineString\n",
        "\n",
        "# import sys\n",
        "# sys.path.append('') #'your-path-to/osm-flex/src'\n",
        "\n",
        "import osm_flex\n",
        "import osm_flex.download as dl\n",
        "import osm_flex.extract as ex\n",
        "import osm_flex.config\n",
        "import osm_flex.clip as cp\n",
        "\n",
        "osm_flex.enable_logs()"
      ]
    },
    {
      "cell_type": "markdown",
      "source": [
        "1. Using the OSM Flex package to download the Road Network for the Study Area"
      ],
      "metadata": {
        "id": "Gmnch6WMRwIK"
      }
    },
    {
      "cell_type": "code",
      "source": [
        "# Download the Spain country file from download.geofabrik.de\n",
        "# downloads requested file only if necessary, and returns save path\n",
        "iso3 = 'ESP'\n",
        "path_esp_dump = dl.get_country_geofabrik(iso3)\n",
        "print(f'Saved as {path_esp_dump}')"
      ],
      "metadata": {
        "colab": {
          "base_uri": "https://localhost:8080/"
        },
        "id": "3U7EUghFgp3f",
        "outputId": "5f62f2ec-3d9f-4778-a695-8e3f111375d9",
        "collapsed": true
      },
      "execution_count": 3,
      "outputs": [
        {
          "output_type": "stream",
          "name": "stderr",
          "text": [
            "INFO:osm_flex.download:Download file: /root/osm/osm_bpf/spain-latest.osm.pbf\n"
          ]
        },
        {
          "output_type": "stream",
          "name": "stdout",
          "text": [
            "Saved as /root/osm/osm_bpf/spain-latest.osm.pbf\n"
          ]
        }
      ]
    },
    {
      "cell_type": "code",
      "source": [
        "# available wrapper categories:\n",
        "osm_flex.config.DICT_CIS_OSM.keys()"
      ],
      "metadata": {
        "colab": {
          "base_uri": "https://localhost:8080/"
        },
        "id": "k9drDIEhh3fe",
        "outputId": "e9a39bca-3c92-428f-d7f0-dbba9c4a9205",
        "collapsed": true
      },
      "execution_count": 4,
      "outputs": [
        {
          "output_type": "execute_result",
          "data": {
            "text/plain": [
              "dict_keys(['education', 'healthcare', 'water', 'telecom', 'road', 'main_road', 'rail', 'air', 'gas', 'oil', 'power', 'wastewater', 'food', 'buildings'])"
            ]
          },
          "metadata": {},
          "execution_count": 4
        }
      ]
    },
    {
      "cell_type": "code",
      "source": [
        "# Convert the osm_flex CI dictionary into a Pandas DataFrame for easier exploration of the available CI keys (categories).\n",
        "DICT_CIS_OSM = pd.DataFrame(osm_flex.config.DICT_CIS_OSM)\n",
        "\n",
        "# Display the first few rows of the DataFrame to preview its structure and the CI keys it contains.\n",
        "DICT_CIS_OSM.head()"
      ],
      "metadata": {
        "colab": {
          "base_uri": "https://localhost:8080/",
          "height": 254
        },
        "id": "ICCQ6vC2iuJH",
        "outputId": "a017e484-b3f3-41cc-9ae3-9383770f39a7",
        "collapsed": true
      },
      "execution_count": 5,
      "outputs": [
        {
          "output_type": "execute_result",
          "data": {
            "text/plain": [
              "                                                   education  \\\n",
              "osm_keys                           [amenity, building, name]   \n",
              "osm_query  building='school' or amenity='school' or\\n    ...   \n",
              "\n",
              "                                                  healthcare  \\\n",
              "osm_keys               [amenity, building, healthcare, name]   \n",
              "osm_query  amenity='hospital' or healthcare='hospital' or...   \n",
              "\n",
              "                                                       water  \\\n",
              "osm_keys         [man_made, pump, pipeline, emergency, name]   \n",
              "osm_query  man_made='water_well' or man_made='water_works...   \n",
              "\n",
              "                                                     telecom  \\\n",
              "osm_keys   [man_made, tower_type, telecom, communication_...   \n",
              "osm_query  tower_type='communication' or man_made='mast' ...   \n",
              "\n",
              "                                                        road  \\\n",
              "osm_keys           [highway, name, maxspeed, lanes, surface]   \n",
              "osm_query  highway in ('motorway', 'motorway_link', 'trun...   \n",
              "\n",
              "                                                   main_road  \\\n",
              "osm_keys           [highway, name, maxspeed, lanes, surface]   \n",
              "osm_query  highway in ('primary', 'primary_link', 'second...   \n",
              "\n",
              "                                                        rail  \\\n",
              "osm_keys        [railway, name, gauge, electrified, voltage]   \n",
              "osm_query  railway='rail' or railway='tram' or\\n         ...   \n",
              "\n",
              "                           air  \\\n",
              "osm_keys       [aeroway, name]   \n",
              "osm_query  aeroway='aerodrome'   \n",
              "\n",
              "                                                         gas  \\\n",
              "osm_keys                 [man_made, pipeline, utility, name]   \n",
              "osm_query  (man_made='pipeline' and substance='gas') or\\n...   \n",
              "\n",
              "                                                         oil  \\\n",
              "osm_keys                 [pipeline, man_made, amenity, name]   \n",
              "osm_query  (pipeline='substation' and substance='oil') or...   \n",
              "\n",
              "                                                       power  \\\n",
              "osm_keys                     [power, voltage, utility, name]   \n",
              "osm_query  power='line' or power='cable' or\\n            ...   \n",
              "\n",
              "                                                  wastewater  \\\n",
              "osm_keys   [reservoir_type, man_made, utility, natural, n...   \n",
              "osm_query  reservoir_type='sewage' or\\n                  ...   \n",
              "\n",
              "                                                        food  \\\n",
              "osm_keys                                        [shop, name]   \n",
              "osm_query  shop='supermarket' or shop='greengrocer' or\\n ...   \n",
              "\n",
              "                                                   buildings  \n",
              "osm_keys                           [building, amenity, name]  \n",
              "osm_query  building='yes' or building='house' or \\n      ...  "
            ],
            "text/html": [
              "\n",
              "  <div id=\"df-7677e500-41a2-4f65-8197-c78d055f80fd\" class=\"colab-df-container\">\n",
              "    <div>\n",
              "<style scoped>\n",
              "    .dataframe tbody tr th:only-of-type {\n",
              "        vertical-align: middle;\n",
              "    }\n",
              "\n",
              "    .dataframe tbody tr th {\n",
              "        vertical-align: top;\n",
              "    }\n",
              "\n",
              "    .dataframe thead th {\n",
              "        text-align: right;\n",
              "    }\n",
              "</style>\n",
              "<table border=\"1\" class=\"dataframe\">\n",
              "  <thead>\n",
              "    <tr style=\"text-align: right;\">\n",
              "      <th></th>\n",
              "      <th>education</th>\n",
              "      <th>healthcare</th>\n",
              "      <th>water</th>\n",
              "      <th>telecom</th>\n",
              "      <th>road</th>\n",
              "      <th>main_road</th>\n",
              "      <th>rail</th>\n",
              "      <th>air</th>\n",
              "      <th>gas</th>\n",
              "      <th>oil</th>\n",
              "      <th>power</th>\n",
              "      <th>wastewater</th>\n",
              "      <th>food</th>\n",
              "      <th>buildings</th>\n",
              "    </tr>\n",
              "  </thead>\n",
              "  <tbody>\n",
              "    <tr>\n",
              "      <th>osm_keys</th>\n",
              "      <td>[amenity, building, name]</td>\n",
              "      <td>[amenity, building, healthcare, name]</td>\n",
              "      <td>[man_made, pump, pipeline, emergency, name]</td>\n",
              "      <td>[man_made, tower_type, telecom, communication_...</td>\n",
              "      <td>[highway, name, maxspeed, lanes, surface]</td>\n",
              "      <td>[highway, name, maxspeed, lanes, surface]</td>\n",
              "      <td>[railway, name, gauge, electrified, voltage]</td>\n",
              "      <td>[aeroway, name]</td>\n",
              "      <td>[man_made, pipeline, utility, name]</td>\n",
              "      <td>[pipeline, man_made, amenity, name]</td>\n",
              "      <td>[power, voltage, utility, name]</td>\n",
              "      <td>[reservoir_type, man_made, utility, natural, n...</td>\n",
              "      <td>[shop, name]</td>\n",
              "      <td>[building, amenity, name]</td>\n",
              "    </tr>\n",
              "    <tr>\n",
              "      <th>osm_query</th>\n",
              "      <td>building='school' or amenity='school' or\\n    ...</td>\n",
              "      <td>amenity='hospital' or healthcare='hospital' or...</td>\n",
              "      <td>man_made='water_well' or man_made='water_works...</td>\n",
              "      <td>tower_type='communication' or man_made='mast' ...</td>\n",
              "      <td>highway in ('motorway', 'motorway_link', 'trun...</td>\n",
              "      <td>highway in ('primary', 'primary_link', 'second...</td>\n",
              "      <td>railway='rail' or railway='tram' or\\n         ...</td>\n",
              "      <td>aeroway='aerodrome'</td>\n",
              "      <td>(man_made='pipeline' and substance='gas') or\\n...</td>\n",
              "      <td>(pipeline='substation' and substance='oil') or...</td>\n",
              "      <td>power='line' or power='cable' or\\n            ...</td>\n",
              "      <td>reservoir_type='sewage' or\\n                  ...</td>\n",
              "      <td>shop='supermarket' or shop='greengrocer' or\\n ...</td>\n",
              "      <td>building='yes' or building='house' or \\n      ...</td>\n",
              "    </tr>\n",
              "  </tbody>\n",
              "</table>\n",
              "</div>\n",
              "    <div class=\"colab-df-buttons\">\n",
              "\n",
              "  <div class=\"colab-df-container\">\n",
              "    <button class=\"colab-df-convert\" onclick=\"convertToInteractive('df-7677e500-41a2-4f65-8197-c78d055f80fd')\"\n",
              "            title=\"Convert this dataframe to an interactive table.\"\n",
              "            style=\"display:none;\">\n",
              "\n",
              "  <svg xmlns=\"http://www.w3.org/2000/svg\" height=\"24px\" viewBox=\"0 -960 960 960\">\n",
              "    <path d=\"M120-120v-720h720v720H120Zm60-500h600v-160H180v160Zm220 220h160v-160H400v160Zm0 220h160v-160H400v160ZM180-400h160v-160H180v160Zm440 0h160v-160H620v160ZM180-180h160v-160H180v160Zm440 0h160v-160H620v160Z\"/>\n",
              "  </svg>\n",
              "    </button>\n",
              "\n",
              "  <style>\n",
              "    .colab-df-container {\n",
              "      display:flex;\n",
              "      gap: 12px;\n",
              "    }\n",
              "\n",
              "    .colab-df-convert {\n",
              "      background-color: #E8F0FE;\n",
              "      border: none;\n",
              "      border-radius: 50%;\n",
              "      cursor: pointer;\n",
              "      display: none;\n",
              "      fill: #1967D2;\n",
              "      height: 32px;\n",
              "      padding: 0 0 0 0;\n",
              "      width: 32px;\n",
              "    }\n",
              "\n",
              "    .colab-df-convert:hover {\n",
              "      background-color: #E2EBFA;\n",
              "      box-shadow: 0px 1px 2px rgba(60, 64, 67, 0.3), 0px 1px 3px 1px rgba(60, 64, 67, 0.15);\n",
              "      fill: #174EA6;\n",
              "    }\n",
              "\n",
              "    .colab-df-buttons div {\n",
              "      margin-bottom: 4px;\n",
              "    }\n",
              "\n",
              "    [theme=dark] .colab-df-convert {\n",
              "      background-color: #3B4455;\n",
              "      fill: #D2E3FC;\n",
              "    }\n",
              "\n",
              "    [theme=dark] .colab-df-convert:hover {\n",
              "      background-color: #434B5C;\n",
              "      box-shadow: 0px 1px 3px 1px rgba(0, 0, 0, 0.15);\n",
              "      filter: drop-shadow(0px 1px 2px rgba(0, 0, 0, 0.3));\n",
              "      fill: #FFFFFF;\n",
              "    }\n",
              "  </style>\n",
              "\n",
              "    <script>\n",
              "      const buttonEl =\n",
              "        document.querySelector('#df-7677e500-41a2-4f65-8197-c78d055f80fd button.colab-df-convert');\n",
              "      buttonEl.style.display =\n",
              "        google.colab.kernel.accessAllowed ? 'block' : 'none';\n",
              "\n",
              "      async function convertToInteractive(key) {\n",
              "        const element = document.querySelector('#df-7677e500-41a2-4f65-8197-c78d055f80fd');\n",
              "        const dataTable =\n",
              "          await google.colab.kernel.invokeFunction('convertToInteractive',\n",
              "                                                    [key], {});\n",
              "        if (!dataTable) return;\n",
              "\n",
              "        const docLinkHtml = 'Like what you see? Visit the ' +\n",
              "          '<a target=\"_blank\" href=https://colab.research.google.com/notebooks/data_table.ipynb>data table notebook</a>'\n",
              "          + ' to learn more about interactive tables.';\n",
              "        element.innerHTML = '';\n",
              "        dataTable['output_type'] = 'display_data';\n",
              "        await google.colab.output.renderOutput(dataTable, element);\n",
              "        const docLink = document.createElement('div');\n",
              "        docLink.innerHTML = docLinkHtml;\n",
              "        element.appendChild(docLink);\n",
              "      }\n",
              "    </script>\n",
              "  </div>\n",
              "\n",
              "\n",
              "<div id=\"df-07ed7847-876d-4f85-8370-b027c360bcae\">\n",
              "  <button class=\"colab-df-quickchart\" onclick=\"quickchart('df-07ed7847-876d-4f85-8370-b027c360bcae')\"\n",
              "            title=\"Suggest charts\"\n",
              "            style=\"display:none;\">\n",
              "\n",
              "<svg xmlns=\"http://www.w3.org/2000/svg\" height=\"24px\"viewBox=\"0 0 24 24\"\n",
              "     width=\"24px\">\n",
              "    <g>\n",
              "        <path d=\"M19 3H5c-1.1 0-2 .9-2 2v14c0 1.1.9 2 2 2h14c1.1 0 2-.9 2-2V5c0-1.1-.9-2-2-2zM9 17H7v-7h2v7zm4 0h-2V7h2v10zm4 0h-2v-4h2v4z\"/>\n",
              "    </g>\n",
              "</svg>\n",
              "  </button>\n",
              "\n",
              "<style>\n",
              "  .colab-df-quickchart {\n",
              "      --bg-color: #E8F0FE;\n",
              "      --fill-color: #1967D2;\n",
              "      --hover-bg-color: #E2EBFA;\n",
              "      --hover-fill-color: #174EA6;\n",
              "      --disabled-fill-color: #AAA;\n",
              "      --disabled-bg-color: #DDD;\n",
              "  }\n",
              "\n",
              "  [theme=dark] .colab-df-quickchart {\n",
              "      --bg-color: #3B4455;\n",
              "      --fill-color: #D2E3FC;\n",
              "      --hover-bg-color: #434B5C;\n",
              "      --hover-fill-color: #FFFFFF;\n",
              "      --disabled-bg-color: #3B4455;\n",
              "      --disabled-fill-color: #666;\n",
              "  }\n",
              "\n",
              "  .colab-df-quickchart {\n",
              "    background-color: var(--bg-color);\n",
              "    border: none;\n",
              "    border-radius: 50%;\n",
              "    cursor: pointer;\n",
              "    display: none;\n",
              "    fill: var(--fill-color);\n",
              "    height: 32px;\n",
              "    padding: 0;\n",
              "    width: 32px;\n",
              "  }\n",
              "\n",
              "  .colab-df-quickchart:hover {\n",
              "    background-color: var(--hover-bg-color);\n",
              "    box-shadow: 0 1px 2px rgba(60, 64, 67, 0.3), 0 1px 3px 1px rgba(60, 64, 67, 0.15);\n",
              "    fill: var(--button-hover-fill-color);\n",
              "  }\n",
              "\n",
              "  .colab-df-quickchart-complete:disabled,\n",
              "  .colab-df-quickchart-complete:disabled:hover {\n",
              "    background-color: var(--disabled-bg-color);\n",
              "    fill: var(--disabled-fill-color);\n",
              "    box-shadow: none;\n",
              "  }\n",
              "\n",
              "  .colab-df-spinner {\n",
              "    border: 2px solid var(--fill-color);\n",
              "    border-color: transparent;\n",
              "    border-bottom-color: var(--fill-color);\n",
              "    animation:\n",
              "      spin 1s steps(1) infinite;\n",
              "  }\n",
              "\n",
              "  @keyframes spin {\n",
              "    0% {\n",
              "      border-color: transparent;\n",
              "      border-bottom-color: var(--fill-color);\n",
              "      border-left-color: var(--fill-color);\n",
              "    }\n",
              "    20% {\n",
              "      border-color: transparent;\n",
              "      border-left-color: var(--fill-color);\n",
              "      border-top-color: var(--fill-color);\n",
              "    }\n",
              "    30% {\n",
              "      border-color: transparent;\n",
              "      border-left-color: var(--fill-color);\n",
              "      border-top-color: var(--fill-color);\n",
              "      border-right-color: var(--fill-color);\n",
              "    }\n",
              "    40% {\n",
              "      border-color: transparent;\n",
              "      border-right-color: var(--fill-color);\n",
              "      border-top-color: var(--fill-color);\n",
              "    }\n",
              "    60% {\n",
              "      border-color: transparent;\n",
              "      border-right-color: var(--fill-color);\n",
              "    }\n",
              "    80% {\n",
              "      border-color: transparent;\n",
              "      border-right-color: var(--fill-color);\n",
              "      border-bottom-color: var(--fill-color);\n",
              "    }\n",
              "    90% {\n",
              "      border-color: transparent;\n",
              "      border-bottom-color: var(--fill-color);\n",
              "    }\n",
              "  }\n",
              "</style>\n",
              "\n",
              "  <script>\n",
              "    async function quickchart(key) {\n",
              "      const quickchartButtonEl =\n",
              "        document.querySelector('#' + key + ' button');\n",
              "      quickchartButtonEl.disabled = true;  // To prevent multiple clicks.\n",
              "      quickchartButtonEl.classList.add('colab-df-spinner');\n",
              "      try {\n",
              "        const charts = await google.colab.kernel.invokeFunction(\n",
              "            'suggestCharts', [key], {});\n",
              "      } catch (error) {\n",
              "        console.error('Error during call to suggestCharts:', error);\n",
              "      }\n",
              "      quickchartButtonEl.classList.remove('colab-df-spinner');\n",
              "      quickchartButtonEl.classList.add('colab-df-quickchart-complete');\n",
              "    }\n",
              "    (() => {\n",
              "      let quickchartButtonEl =\n",
              "        document.querySelector('#df-07ed7847-876d-4f85-8370-b027c360bcae button');\n",
              "      quickchartButtonEl.style.display =\n",
              "        google.colab.kernel.accessAllowed ? 'block' : 'none';\n",
              "    })();\n",
              "  </script>\n",
              "</div>\n",
              "\n",
              "    </div>\n",
              "  </div>\n"
            ],
            "application/vnd.google.colaboratory.intrinsic+json": {
              "type": "dataframe",
              "variable_name": "DICT_CIS_OSM",
              "summary": "{\n  \"name\": \"DICT_CIS_OSM\",\n  \"rows\": 2,\n  \"fields\": [\n    {\n      \"column\": \"education\",\n      \"properties\": {\n        \"dtype\": \"object\",\n        \"semantic_type\": \"\",\n        \"description\": \"\"\n      }\n    },\n    {\n      \"column\": \"healthcare\",\n      \"properties\": {\n        \"dtype\": \"object\",\n        \"semantic_type\": \"\",\n        \"description\": \"\"\n      }\n    },\n    {\n      \"column\": \"water\",\n      \"properties\": {\n        \"dtype\": \"object\",\n        \"semantic_type\": \"\",\n        \"description\": \"\"\n      }\n    },\n    {\n      \"column\": \"telecom\",\n      \"properties\": {\n        \"dtype\": \"object\",\n        \"semantic_type\": \"\",\n        \"description\": \"\"\n      }\n    },\n    {\n      \"column\": \"road\",\n      \"properties\": {\n        \"dtype\": \"object\",\n        \"semantic_type\": \"\",\n        \"description\": \"\"\n      }\n    },\n    {\n      \"column\": \"main_road\",\n      \"properties\": {\n        \"dtype\": \"object\",\n        \"semantic_type\": \"\",\n        \"description\": \"\"\n      }\n    },\n    {\n      \"column\": \"rail\",\n      \"properties\": {\n        \"dtype\": \"object\",\n        \"semantic_type\": \"\",\n        \"description\": \"\"\n      }\n    },\n    {\n      \"column\": \"air\",\n      \"properties\": {\n        \"dtype\": \"object\",\n        \"semantic_type\": \"\",\n        \"description\": \"\"\n      }\n    },\n    {\n      \"column\": \"gas\",\n      \"properties\": {\n        \"dtype\": \"object\",\n        \"semantic_type\": \"\",\n        \"description\": \"\"\n      }\n    },\n    {\n      \"column\": \"oil\",\n      \"properties\": {\n        \"dtype\": \"object\",\n        \"semantic_type\": \"\",\n        \"description\": \"\"\n      }\n    },\n    {\n      \"column\": \"power\",\n      \"properties\": {\n        \"dtype\": \"object\",\n        \"semantic_type\": \"\",\n        \"description\": \"\"\n      }\n    },\n    {\n      \"column\": \"wastewater\",\n      \"properties\": {\n        \"dtype\": \"object\",\n        \"semantic_type\": \"\",\n        \"description\": \"\"\n      }\n    },\n    {\n      \"column\": \"food\",\n      \"properties\": {\n        \"dtype\": \"object\",\n        \"semantic_type\": \"\",\n        \"description\": \"\"\n      }\n    },\n    {\n      \"column\": \"buildings\",\n      \"properties\": {\n        \"dtype\": \"object\",\n        \"semantic_type\": \"\",\n        \"description\": \"\"\n      }\n    }\n  ]\n}"
            }
          },
          "metadata": {},
          "execution_count": 5
        }
      ]
    },
    {
      "cell_type": "code",
      "source": [
        "# Optionally, check the signature of the extraction function\n",
        "? ex.extract_cis"
      ],
      "metadata": {
        "id": "7P37W19TjQwY"
      },
      "execution_count": 6,
      "outputs": []
    },
    {
      "cell_type": "code",
      "source": [
        "gdf_esp_mainroad = ex.extract_cis(path_esp_dump, 'main_road')\n",
        "\n",
        "# Drop rows where geometry type is not LineString\n",
        "gdf_esp_mainroad = gdf_esp_mainroad[gdf_esp_mainroad.geometry.geom_type == 'LineString']"
      ],
      "metadata": {
        "colab": {
          "base_uri": "https://localhost:8080/"
        },
        "id": "xfc6IBYpjiK9",
        "outputId": "6741b7d4-598c-4b3b-bef1-60ea7f5e886c",
        "collapsed": true
      },
      "execution_count": null,
      "outputs": [
        {
          "output_type": "stream",
          "name": "stderr",
          "text": [
            "INFO:osm_flex.extract:query is finished, lets start the loop\n",
            "extract points: 0it [00:32, ?it/s]\n",
            "INFO:osm_flex.extract:query is finished, lets start the loop\n",
            "extract multipolygons:   0%|          | 0/2 [00:00<?, ?it/s]"
          ]
        }
      ]
    },
    {
      "cell_type": "code",
      "source": [
        "fig, ax = plt.subplots()\n",
        "gdf_esp_mainroad.plot(ax=ax, linewidth=0.5)\n",
        "fig.suptitle('Main roads in Spain')\n",
        "plt.show()"
      ],
      "metadata": {
        "id": "qfpbOxTEjziV",
        "collapsed": true
      },
      "execution_count": null,
      "outputs": []
    },
    {
      "cell_type": "code",
      "source": [
        "gdf_esp_mainroad.to_csv('Spain_main_roads.csv')\n",
        "Spain_Roadnetwork = pd.DataFrame(gdf_esp_mainroad)"
      ],
      "metadata": {
        "id": "hoHRZvBlozsf"
      },
      "execution_count": null,
      "outputs": []
    },
    {
      "cell_type": "code",
      "source": [
        "Spain_Roadnetwork.head()"
      ],
      "metadata": {
        "id": "hzWi0eZb4JhF"
      },
      "execution_count": null,
      "outputs": []
    },
    {
      "cell_type": "code",
      "source": [],
      "metadata": {
        "id": "wzRnfYoEXh1F"
      },
      "execution_count": null,
      "outputs": []
    },
    {
      "cell_type": "code",
      "source": [
        "# Assign DataFrame for easier handling\n",
        "df_Spain = Spain_Roadnetwork\n",
        "\n",
        "# Columns of interest\n",
        "columns = ['maxspeed', 'lanes', 'surface']\n",
        "\n",
        "# Calculate completeness (non-null percentage)\n",
        "completeness = df_Spain[columns].notnull().mean() * 100\n",
        "\n",
        "# Plot\n",
        "plt.figure(figsize=(8, 5))\n",
        "completeness.plot(kind='bar', color='skyblue', edgecolor='black')\n",
        "\n",
        "plt.title('Road Attribute Completeness (%)')\n",
        "plt.ylabel('Percentage')\n",
        "plt.ylim(0, 100)\n",
        "plt.xticks(rotation=45)\n",
        "plt.grid(axis='y', linestyle='--', alpha=0.7)\n",
        "\n",
        "# Annotate bars with values\n",
        "for idx, val in enumerate (completeness):\n",
        "    plt.text(idx, val + 1, f'{val:.1f}%', ha='center', va='bottom')\n",
        "\n",
        "plt.tight_layout()\n",
        "plt.show()\n"
      ],
      "metadata": {
        "id": "uRzkmKOypTUl"
      },
      "execution_count": null,
      "outputs": []
    },
    {
      "cell_type": "markdown",
      "source": [
        "Specific Regions"
      ],
      "metadata": {
        "id": "4DVAnfUBUM4O"
      }
    },
    {
      "cell_type": "markdown",
      "source": [],
      "metadata": {
        "id": "_QtORK_7n1Fy"
      }
    },
    {
      "cell_type": "code",
      "source": [
        "# Obtain the region polygons\n",
        "admin_1_esp = cp.get_admin1_shapes('ESP')\n",
        "admin_1_esp.keys()"
      ],
      "metadata": {
        "collapsed": true,
        "id": "9yM_7V-0m9P6"
      },
      "execution_count": null,
      "outputs": []
    },
    {
      "cell_type": "code",
      "source": [
        "Malaga_shp = admin_1_esp['Málaga']\n",
        "Malaga_shp\n",
        "\n",
        "Barcelona_shp = admin_1_esp['Barcelona']\n",
        "Barcelona_shp"
      ],
      "metadata": {
        "id": "-g1H4qqWvNfX"
      },
      "execution_count": null,
      "outputs": []
    },
    {
      "cell_type": "code",
      "source": [
        "!rm /root/osm/poly/temp_shp.poly"
      ],
      "metadata": {
        "id": "aTBJy47NyCPQ"
      },
      "execution_count": null,
      "outputs": []
    },
    {
      "cell_type": "code",
      "source": [
        "# Clip the region polygon:\n",
        "cp.clip_from_shapes([Malaga_shp],\n",
        "                    osmpbf_output=osm_flex.config.OSM_DATA_DIR.joinpath('Malaga.osm.pbf'),\n",
        "                    osmpbf_clip_from=path_esp_dump,\n",
        "                    kernel='osmosis', overwrite=True)\n",
        "\n",
        "# Clip the region polygon:\n",
        "cp.clip_from_shapes([Barcelona_shp],\n",
        "                    osmpbf_output=osm_flex.config.OSM_DATA_DIR.joinpath('Barcelona.osm.pbf'),\n",
        "                    osmpbf_clip_from=path_esp_dump,\n",
        "                    kernel='osmosis', overwrite=True)"
      ],
      "metadata": {
        "id": "gEjWk2rioRUn"
      },
      "execution_count": null,
      "outputs": []
    },
    {
      "cell_type": "markdown",
      "source": [],
      "metadata": {
        "id": "At5HJLm6s2vJ"
      }
    },
    {
      "cell_type": "code",
      "source": [
        "Malaga_Roadnetwork = gdf_esp_mainroad[gdf_esp_mainroad.intersects(Malaga_shp)]\n",
        "fig, ax = plt.subplots(figsize=(12, 9))\n",
        "Malaga_Roadnetwork.plot(ax=ax, linewidth=0.5)\n",
        "fig.suptitle('Main roads in Malaga')\n",
        "plt.show()\n",
        "\n",
        "Barcelona_Roadnetwork = gdf_esp_mainroad[gdf_esp_mainroad.intersects(Barcelona_shp)]\n",
        "fig, ax = plt.subplots(figsize=(12, 9))\n",
        "Barcelona_Roadnetwork.plot(ax=ax, linewidth=0.5)\n",
        "fig.suptitle('Main roads in Barcelona')\n",
        "plt.show()"
      ],
      "metadata": {
        "id": "WdJJoUiO3mkK"
      },
      "execution_count": null,
      "outputs": []
    },
    {
      "cell_type": "markdown",
      "source": [
        "2. Malaga"
      ],
      "metadata": {
        "id": "OCAXS9fNUR-R"
      }
    },
    {
      "cell_type": "code",
      "source": [
        "# Assign DataFrame for easier handling\n",
        "df_Malaga = Malaga_Roadnetwork\n",
        "\n",
        "# Columns of interest\n",
        "columns = ['maxspeed', 'lanes', 'surface']\n",
        "\n",
        "# Calculate completeness (non-null percentage)\n",
        "completeness = df_Malaga[columns].notnull().mean() * 100\n",
        "\n",
        "# Plot\n",
        "plt.figure(figsize=(8, 5))\n",
        "completeness.plot(kind='bar', color='skyblue', edgecolor='black')\n",
        "\n",
        "plt.title('Road Attribute Completeness (%)')\n",
        "plt.ylabel('Percentage')\n",
        "plt.ylim(0, 100)\n",
        "plt.xticks(rotation=45)\n",
        "plt.grid(axis='y', linestyle='--', alpha=0.7)\n",
        "\n",
        "# Annotate bars with values\n",
        "for idx, val in enumerate (completeness):\n",
        "    plt.text(idx, val + 1, f'{val:.1f}%', ha='center', va='bottom')\n",
        "\n",
        "plt.tight_layout()\n",
        "plt.show()"
      ],
      "metadata": {
        "id": "3YRC2v558qkf"
      },
      "execution_count": null,
      "outputs": []
    },
    {
      "cell_type": "code",
      "source": [
        "df_Malaga['Centroid'] = df_Malaga.geometry.centroid\n",
        "df_Malaga['Midpoint'] = df_Malaga.geometry.apply(lambda geom: geom.interpolate(0.5, normalized=True))\n",
        "df_Malaga.to_csv('Malaga_main_roads.csv')"
      ],
      "metadata": {
        "id": "iHOSHYq49OaA"
      },
      "execution_count": null,
      "outputs": []
    },
    {
      "cell_type": "code",
      "source": [
        "def calculate_sinuosity(geometry):\n",
        "    # Calculate the actual road distance (length of the LineString)\n",
        "    road_distance = geometry.length\n",
        "\n",
        "    # Calculate the Euclidean distance (straight line distance between the first and last points)\n",
        "    start_point = Point(geometry.coords[0])\n",
        "    end_point = Point(geometry.coords[-1])\n",
        "    euclidean_distance = start_point.distance(end_point)\n",
        "\n",
        "    # Avoid division by zero by adding a small value to the denominator\n",
        "    sinuosity = road_distance / (euclidean_distance + 1e-100)  # Added 1e-100 to avoid ZeroDivisionError\n",
        "\n",
        "    return sinuosity\n",
        "\n",
        "# Apply the function to each geometry in the GeoDataFrame\n",
        "df_Malaga['sinuosity'] = df['geometry'].apply(calculate_sinuosity)\n",
        "\n",
        "df_Malaga"
      ],
      "metadata": {
        "id": "nldEHGCdrC2y"
      },
      "execution_count": null,
      "outputs": []
    },
    {
      "cell_type": "code",
      "source": [
        "fig, ax = plt.subplots(figsize=(12, 9))\n",
        "\n",
        "# Plot road network first with a specific color and zorder\n",
        "df_Malaga.plot(ax=ax, linewidth=0.5, color='blue', zorder=1)\n",
        "\n",
        "# Plot centroids (assumed to be in df['Centroid']) on top with a smaller size, color, and transparency\n",
        "df_Malaga['Centroid'].plot(ax=ax, marker='o', color='red', markersize=0.05, alpha=0.7, zorder=2)\n",
        "\n",
        "# Add title\n",
        "fig.suptitle('Main roads in Malaga with Centroids')\n",
        "plt.show()\n"
      ],
      "metadata": {
        "id": "JtCiCTBY-orm"
      },
      "execution_count": null,
      "outputs": []
    },
    {
      "cell_type": "markdown",
      "source": [],
      "metadata": {
        "id": "uFtja0lQ-o8C"
      }
    },
    {
      "cell_type": "code",
      "source": [
        "df_Malaga"
      ],
      "metadata": {
        "id": "CMaPSxYeUj57"
      },
      "execution_count": null,
      "outputs": []
    },
    {
      "cell_type": "code",
      "source": [
        "CLC_Spain = '/content/CLC_Spain.tif'\n",
        "CLC_Spain_raster = rxr.open_rasterio(CLC_Spain)  # Open the raster file with rioxarray\n",
        "\n",
        "# Get the CRS from the opened raster\n",
        "raster_crs = CLC_Spain_raster.rio.crs\n",
        "\n",
        "# Ensure roads are in a projected CRS for accurate buffering (meters)\n",
        "roads = df_Malaga.to_crs(raster_crs)  # Use the raster's CRS for reprojection\n",
        "\n",
        "# Run zonal stats\n",
        "stats = zonal_stats(roads['geometry'], CLC_Spain, stats=['majority'], categorical=True)\n",
        "\n",
        "# Add majority land cover type to roads GeoDataFrame\n",
        "roads['clc_majority'] = [s['majority'] for s in stats]"
      ],
      "metadata": {
        "id": "185OE6sxGBJ8",
        "collapsed": true
      },
      "execution_count": null,
      "outputs": []
    },
    {
      "cell_type": "code",
      "source": [
        "Slope_Spain = '/content/DEM_Malaga.tif'\n",
        "Slope_Spain_raster = rxr.open_rasterio(Slope_Spain)  # Open the raster file with rioxarray\n",
        "\n",
        "# Get the CRS from the opened raster\n",
        "raster_crs = Slope_Spain_raster.rio.crs\n",
        "\n",
        "# Ensure roads are in a projected CRS for accurate buffering (meters)\n",
        "roads = df.to_crs(raster_crs)  # Use the raster's CRS for reprojection\n",
        "\n",
        "# Run zonal stats\n",
        "stats = zonal_stats(roads['geometry'], Slope_Spain, stats=['mean'], categorical=True)\n",
        "\n",
        "# Add majority land cover type to roads GeoDataFrame\n",
        "roads['Average_Slope'] = [s['mean'] for s in stats]"
      ],
      "metadata": {
        "id": "6HhVbxiP9j5r"
      },
      "execution_count": null,
      "outputs": []
    },
    {
      "cell_type": "code",
      "source": [
        "roads\n",
        "# Buffer the lines to create polygons (e.g., 5 meters wide)\n",
        "# roads['geometry'] = roads.geometry.buffer(5)"
      ],
      "metadata": {
        "id": "bOuMbiDKcwZK"
      },
      "execution_count": null,
      "outputs": []
    },
    {
      "cell_type": "code",
      "source": [
        "roads.to_csv('Slope.csv')"
      ],
      "metadata": {
        "id": "Tx3yIJGZKZXH"
      },
      "execution_count": null,
      "outputs": []
    },
    {
      "cell_type": "markdown",
      "source": [
        "2.2. Barcelona"
      ],
      "metadata": {
        "id": "dLWZTWeGUV31"
      }
    },
    {
      "cell_type": "code",
      "source": [],
      "metadata": {
        "id": "1sykGO2zUXjP"
      },
      "execution_count": null,
      "outputs": []
    },
    {
      "cell_type": "code",
      "source": [
        "import requests\n",
        "import os\n",
        "\n",
        "# region identifier\n",
        "region = \"europe/spain/andalucia\"\n",
        "\n",
        "# URL and save path\n",
        "url = \"https://download.geofabrik.de/europe/spain/andalucia-latest.osm.pbf\"\n",
        "# Specify the directory where the file should be saved\n",
        "save_path = \"/root/osm/osm_bpf/\"\n",
        "#The filename will be automatically appended\n",
        "\n",
        "# Download using the correct region identifier\n",
        "path_and_dump = dl.get_region_geofabrik(region, save_path=save_path)\n",
        "print(f'Saved as {path_and_dump}')"
      ],
      "metadata": {
        "id": "UspWLATas3Bv",
        "collapsed": true
      },
      "execution_count": null,
      "outputs": []
    },
    {
      "cell_type": "code",
      "source": [
        "gdf_and_mainroad = ex.extract_cis(path_and_dump, 'main_road')"
      ],
      "metadata": {
        "id": "A8M_1qpZvWNg",
        "collapsed": true
      },
      "execution_count": null,
      "outputs": []
    },
    {
      "cell_type": "code",
      "source": [
        "fig, ax = plt.subplots()\n",
        "gdf_and_mainroad.plot(ax=ax, linewidth=0.5)\n",
        "fig.suptitle('Main roads in Andalusia')\n",
        "plt.show()"
      ],
      "metadata": {
        "id": "wGmsKD4rvX-v",
        "collapsed": true
      },
      "execution_count": null,
      "outputs": []
    },
    {
      "cell_type": "code",
      "source": [
        "gdf_and_mainroad.head()\n",
        "gdf_and_mainroad.to_csv('Andalusia_main_roads.csv')\n",
        "Andalusia_Roadnetwork = pd.DataFrame(gdf_and_mainroad)"
      ],
      "metadata": {
        "id": "IFUhNLYz59RS"
      },
      "execution_count": null,
      "outputs": []
    },
    {
      "cell_type": "code",
      "source": [
        "Andalusia_Roadnetwork.head()"
      ],
      "metadata": {
        "id": "JFsUv9K08tUL",
        "collapsed": true
      },
      "execution_count": null,
      "outputs": []
    },
    {
      "cell_type": "code",
      "source": [
        "# Assign DataFrame for easier handling\n",
        "df = Andalusia_Roadnetwork\n",
        "\n",
        "# Columns of interest\n",
        "columns = ['maxspeed', 'lanes', 'surface']\n",
        "\n",
        "# Calculate completeness (non-null percentage)\n",
        "completeness = df[columns].notnull().mean() * 100\n",
        "\n",
        "# Plot\n",
        "plt.figure(figsize=(8, 5))\n",
        "completeness.plot(kind='bar', color='skyblue', edgecolor='black')\n",
        "\n",
        "plt.title('Road Attribute Completeness (%)')\n",
        "plt.ylabel('Percentage')\n",
        "plt.ylim(0, 100)\n",
        "plt.xticks(rotation=45)\n",
        "plt.grid(axis='y', linestyle='--', alpha=0.7)\n",
        "\n",
        "# Annotate bars with values\n",
        "for idx, val in enumerate (completeness):\n",
        "    plt.text(idx, val + 1, f'{val:.1f}%', ha='center', va='bottom')\n",
        "\n",
        "plt.tight_layout()\n",
        "plt.show()"
      ],
      "metadata": {
        "id": "0UY_xDn93wlE"
      },
      "execution_count": null,
      "outputs": []
    },
    {
      "cell_type": "code",
      "source": [
        "from shapely.geometry import LineString\n",
        "import math\n",
        "\n",
        "def calculate_sinuosity(coordinates):\n",
        "    # Create a LineString object\n",
        "    line = LineString(coordinates)\n",
        "\n",
        "    # Calculate the actual road distance (length of the LineString)\n",
        "    road_distance = line.length\n",
        "\n",
        "    # Calculate the Euclidean distance (straight line distance between the first and last points)\n",
        "    start_point = coordinates[0]\n",
        "    end_point = coordinates[-1]\n",
        "    euclidean_distance = math.sqrt((end_point[0] - start_point[0])**2 + (end_point[1] - start_point[1])**2)\n",
        "\n",
        "    # Calculate the sinuosity\n",
        "    sinuosity = road_distance / euclidean_distance\n",
        "\n",
        "    return sinuosity\n",
        "\n",
        "# Example usage with a list of coordinates\n",
        "coordinates = [(-5.7814557, 43.4445928), (-5.7812748, 43.4447708), (-5.7811805, 43.4448446)]\n",
        "\n",
        "# Calculate the sinuosity for the example coordinates\n",
        "sinuosity = calculate_sinuosity(coordinates)\n",
        "\n",
        "print(f\"Sinuosity: {sinuosity}\")"
      ],
      "metadata": {
        "collapsed": true,
        "id": "NF6l3kCKwUh-"
      },
      "execution_count": null,
      "outputs": []
    }
  ]
}